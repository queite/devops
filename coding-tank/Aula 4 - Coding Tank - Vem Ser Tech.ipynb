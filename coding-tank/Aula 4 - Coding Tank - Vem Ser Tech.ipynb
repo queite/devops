{
 "cells": [
  {
   "cell_type": "markdown",
   "id": "341a085c",
   "metadata": {},
   "source": [
    "<div style=\"background-color: lightgreen; padding: 18px;\">\n",
    "    <h1> Coding Tank | Vem Ser Tech \n",
    "</div>"
   ]
  },
  {
   "cell_type": "markdown",
   "id": "f0230d44",
   "metadata": {},
   "source": [
    "<div style=\"background-color: lightblue; padding: 10px;\">\n",
    "    <h2> Tópicos da aula - AULA 4\n",
    "</div>\n",
    "\n",
    "- Loop for\n",
    "- Listas\n",
    "- Índices\n",
    "- Iterações de listas\n",
    "- Métodos de listas"
   ]
  },
  {
   "cell_type": "markdown",
   "id": "ddaaaec8",
   "metadata": {},
   "source": [
    "E se quisermos fazer o programa que a pessoa digita 10 números e dizemos o maior, conseguimos?\n",
    "\n",
    "E se quisermos o 2° maior? E se quisermos o 5º? \n",
    "\n",
    "Podemos resolver com **listas**\n",
    "\n",
    "- Listas\n",
    "\n",
    "Listas são coleções de objetos em Python e é expressada em `[]`"
   ]
  },
  {
   "cell_type": "code",
   "execution_count": null,
   "id": "e626193f",
   "metadata": {
    "ExecuteTime": {
     "end_time": "2023-06-29T00:53:10.121923Z",
     "start_time": "2023-06-29T00:53:10.111155Z"
    }
   },
   "outputs": [],
   "source": [
    "lista_1 = []  # lista vazia\n",
    "lista_2 = [1, 2, 3, 4]\n",
    "lista_3 = list() # criando uma lista -> neste caso, estou criando uma lista vazia\n",
    "lista_4 = [1, 2.5, 3, 4]\n",
    "lista_5 = [1, 2.0, 'três'] # misturando int, float, str\n",
    "lista_6 = [1, [2, 3]] # lista dentro de lista"
   ]
  },
  {
   "cell_type": "code",
   "execution_count": null,
   "id": "8a7398da",
   "metadata": {
    "ExecuteTime": {
     "end_time": "2023-06-29T00:56:41.565104Z",
     "start_time": "2023-06-29T00:56:41.555151Z"
    }
   },
   "outputs": [],
   "source": [
    "lista =  [1, 3, 5, 7, 9, 11, 13, 15, 17, 21] # 10 elementos\n",
    "# índices 0  1  2  3  4  5   6   7   8   9  ---> no python sempre começa com índice ZERO\n",
    "# índice => posição dos elementos"
   ]
  },
  {
   "cell_type": "code",
   "execution_count": null,
   "id": "4541e94a",
   "metadata": {
    "ExecuteTime": {
     "end_time": "2023-06-29T00:56:58.487031Z",
     "start_time": "2023-06-29T00:56:58.477176Z"
    }
   },
   "outputs": [],
   "source": [
    "lista # posição dos elementos é importante"
   ]
  },
  {
   "cell_type": "code",
   "execution_count": null,
   "id": "8a57fec8",
   "metadata": {
    "ExecuteTime": {
     "end_time": "2023-06-29T00:57:40.345041Z",
     "start_time": "2023-06-29T00:57:40.339545Z"
    }
   },
   "outputs": [],
   "source": [
    "# Funções e métodos de listas\n",
    "\n",
    "len(lista) # quantidade de elementos da lista"
   ]
  },
  {
   "cell_type": "code",
   "execution_count": null,
   "id": "03ac344a",
   "metadata": {
    "ExecuteTime": {
     "end_time": "2023-06-29T22:26:30.681040Z",
     "start_time": "2023-06-29T22:26:30.671086Z"
    }
   },
   "outputs": [],
   "source": [
    "# Acessar os elementos da lista a partir da posição\n",
    "lista[0] # o num 1 é a posição 0 da lista"
   ]
  },
  {
   "cell_type": "code",
   "execution_count": null,
   "id": "f9777dd0",
   "metadata": {
    "ExecuteTime": {
     "end_time": "2023-06-29T22:26:58.328878Z",
     "start_time": "2023-06-29T22:26:58.315522Z"
    }
   },
   "outputs": [],
   "source": [
    "lista[9] # o elemento 21 é a posição 9 da lista"
   ]
  },
  {
   "cell_type": "code",
   "execution_count": null,
   "id": "fb4cc5b7",
   "metadata": {
    "ExecuteTime": {
     "end_time": "2023-06-29T22:27:19.356689Z",
     "start_time": "2023-06-29T22:27:19.312779Z"
    }
   },
   "outputs": [],
   "source": [
    "# Acessar os elementos da lista\n",
    "\n",
    "print(lista[0]) # mostra o valor da posição zero da variável lista\n",
    "\n",
    "print(lista[1])\n",
    "\n",
    "print(lista[2])\n",
    "\n",
    "print(lista[3])\n",
    "\n",
    "print(lista[4])\n",
    "\n",
    "print(lista[5])\n",
    "\n",
    "print(lista[9])\n",
    "\n",
    "print(lista[10]) # Dá erro pois não tem a posição de índice 10 (lembrando que o python começa no zero)"
   ]
  },
  {
   "cell_type": "code",
   "execution_count": null,
   "id": "0339c0fc",
   "metadata": {
    "ExecuteTime": {
     "end_time": "2023-06-29T22:28:00.578066Z",
     "start_time": "2023-06-29T22:28:00.567809Z"
    }
   },
   "outputs": [],
   "source": [
    "print(lista_5)"
   ]
  },
  {
   "cell_type": "code",
   "execution_count": null,
   "id": "6f038b2b",
   "metadata": {
    "ExecuteTime": {
     "end_time": "2023-06-29T22:28:06.511060Z",
     "start_time": "2023-06-29T22:28:06.501774Z"
    }
   },
   "outputs": [],
   "source": [
    "type(lista_5) # saber o tipo da var lista_5"
   ]
  },
  {
   "cell_type": "code",
   "execution_count": null,
   "id": "1c1228df",
   "metadata": {
    "ExecuteTime": {
     "end_time": "2023-06-29T22:28:53.370752Z",
     "start_time": "2023-06-29T22:28:53.345190Z"
    }
   },
   "outputs": [],
   "source": [
    "type(lista_5[0]) # saber o tipo do elemento zero da lista"
   ]
  },
  {
   "cell_type": "code",
   "execution_count": null,
   "id": "20e426c5",
   "metadata": {
    "ExecuteTime": {
     "end_time": "2023-06-29T22:29:03.492265Z",
     "start_time": "2023-06-29T22:29:03.475031Z"
    }
   },
   "outputs": [],
   "source": [
    "type(lista_5[1])"
   ]
  },
  {
   "cell_type": "code",
   "execution_count": null,
   "id": "459eedd9",
   "metadata": {
    "ExecuteTime": {
     "end_time": "2023-06-29T22:29:09.389792Z",
     "start_time": "2023-06-29T22:29:09.372341Z"
    }
   },
   "outputs": [],
   "source": [
    "type(lista_5[2])"
   ]
  },
  {
   "cell_type": "code",
   "execution_count": null,
   "id": "f2fc4556",
   "metadata": {
    "ExecuteTime": {
     "end_time": "2023-06-29T22:29:58.239341Z",
     "start_time": "2023-06-29T22:29:58.227247Z"
    }
   },
   "outputs": [],
   "source": [
    "lista_5[-1] # -1 ele vai para o último elemento da lista"
   ]
  },
  {
   "cell_type": "code",
   "execution_count": null,
   "id": "329ac2df",
   "metadata": {
    "ExecuteTime": {
     "end_time": "2023-06-29T22:50:42.362629Z",
     "start_time": "2023-06-29T22:50:42.336530Z"
    }
   },
   "outputs": [],
   "source": [
    "# Quebrar e acessando a lista\n",
    "\n",
    "print(lista[:]) # lista[inicio:fim]    [:] --> todos os valores   lista != lista[:] pois [:] criando uma cópia\n",
    "\n",
    "print(lista[0:3]) # os 3 primeiros elementos da lista\n",
    "print(lista[:3]) # os 3 primeiros elementos da lista\n",
    "\n",
    "print(lista[6:10]) # do valor 13 até o final --> pq o últimmo valor é exclusivo (ou seja, não entra)\n",
    "print(lista[6:]) # do valor 13 até o final\n",
    "\n",
    "print(lista[6:-1])\n",
    "\n",
    "print(lista[3:6])\n",
    "\n",
    "print(lista[0])\n",
    "print(lista[0:1])\n",
    "\n",
    "print(lista[1:8])\n",
    "\n",
    "print(lista[1:8:2]) # do início ao fim em passos --> lista[inicio:fim:passo]\n"
   ]
  },
  {
   "cell_type": "code",
   "execution_count": null,
   "id": "afc26e8e",
   "metadata": {
    "ExecuteTime": {
     "end_time": "2023-06-29T22:53:07.476480Z",
     "start_time": "2023-06-29T22:53:07.455763Z"
    }
   },
   "outputs": [],
   "source": [
    "# substituir um valor da lista\n",
    "\n",
    "lista[2] = 11 # substiruir o valor 5 pelo 11 usando o índice 2\n",
    "\n",
    "print(lista)"
   ]
  },
  {
   "cell_type": "code",
   "execution_count": null,
   "id": "7c369dcf",
   "metadata": {
    "ExecuteTime": {
     "end_time": "2023-06-29T22:54:39.387621Z",
     "start_time": "2023-06-29T22:54:39.366577Z"
    }
   },
   "outputs": [],
   "source": [
    "# acrescentar valores na lista --> usando a \"função\" append\n",
    "\n",
    "lista.append(99) # acrescentar o valor 99 na última posição\n",
    "\n",
    "print(lista)"
   ]
  },
  {
   "cell_type": "code",
   "execution_count": null,
   "id": "56be891f",
   "metadata": {
    "ExecuteTime": {
     "end_time": "2023-06-29T23:38:11.739834Z",
     "start_time": "2023-06-29T23:38:11.715051Z"
    }
   },
   "outputs": [],
   "source": [
    "lista_4 + lista_5"
   ]
  },
  {
   "cell_type": "markdown",
   "id": "f4bac6d5",
   "metadata": {
    "ExecuteTime": {
     "end_time": "2023-06-29T22:52:13.757377Z",
     "start_time": "2023-06-29T22:52:13.737024Z"
    }
   },
   "source": [
    "Existem várias outras funções/métodos de listas que vocês irão aprender no próximo módulo, como:\n",
    "\n",
    "- append\n",
    "- insert\n",
    "- remove\n",
    "- pop\n",
    "- sort\n",
    "- sorted\n",
    "- reverse\n",
    "- index\n",
    "- max, min, len\n",
    "    "
   ]
  },
  {
   "cell_type": "code",
   "execution_count": null,
   "id": "eb90e370",
   "metadata": {
    "ExecuteTime": {
     "end_time": "2023-06-29T22:56:30.796648Z",
     "start_time": "2023-06-29T22:56:30.777686Z"
    }
   },
   "outputs": [],
   "source": [
    "sorted(lista)"
   ]
  },
  {
   "cell_type": "code",
   "execution_count": null,
   "id": "cd79e129",
   "metadata": {
    "ExecuteTime": {
     "end_time": "2023-06-29T22:56:52.653894Z",
     "start_time": "2023-06-29T22:56:52.636248Z"
    }
   },
   "outputs": [],
   "source": [
    "max(lista)"
   ]
  },
  {
   "cell_type": "code",
   "execution_count": null,
   "id": "7d06c247",
   "metadata": {
    "ExecuteTime": {
     "end_time": "2023-06-29T22:56:59.905041Z",
     "start_time": "2023-06-29T22:56:59.879562Z"
    }
   },
   "outputs": [],
   "source": [
    "min(lista)"
   ]
  },
  {
   "cell_type": "code",
   "execution_count": null,
   "id": "2e1a56b6",
   "metadata": {
    "ExecuteTime": {
     "end_time": "2023-06-29T23:09:55.227172Z",
     "start_time": "2023-06-29T23:09:49.854071Z"
    }
   },
   "outputs": [],
   "source": [
    "# como adicionar vários elementos a uma lista enquanto o usuário fornece valores?\n",
    "# se o usuário digitar 0, finaliza o programa\n",
    "\n",
    "lista = [] # criar uma lista vazia ou lista = list()\n",
    "numero = int(input('Digite um número: '))\n",
    "\n",
    "while numero != 0:\n",
    "    lista.append(numero) # adicionando o numero que o usuario digitou na lista\n",
    "    numero = int(input('Digite um número: '))\n",
    "\n",
    "print(lista)"
   ]
  },
  {
   "cell_type": "markdown",
   "id": "d9df7da1",
   "metadata": {},
   "source": [
    "**Percorrer a lista**"
   ]
  },
  {
   "cell_type": "code",
   "execution_count": null,
   "id": "d53d4480",
   "metadata": {
    "ExecuteTime": {
     "end_time": "2023-06-29T23:22:53.411814Z",
     "start_time": "2023-06-29T23:22:53.402698Z"
    }
   },
   "outputs": [],
   "source": [
    "# Dada uma lista de números, somar os elementos dessa lista usando os índices\n",
    "\n",
    "numeros = [1, 3, 5, 7, 9, 11]\n",
    "soma = 0\n",
    "indice = 0\n",
    "\n",
    "while indice < len(numeros) : # substituindo o índice 6 por len(numeros) para ficar genérico\n",
    "    print('indice', indice)\n",
    "    soma = soma + numeros[indice]\n",
    "    indice += 1\n",
    "\n",
    "print(soma)"
   ]
  },
  {
   "cell_type": "code",
   "execution_count": null,
   "id": "bf65f123",
   "metadata": {
    "ExecuteTime": {
     "end_time": "2023-06-29T23:23:25.535201Z",
     "start_time": "2023-06-29T23:23:25.519513Z"
    }
   },
   "outputs": [],
   "source": [
    "# outra forma de somar todos os elementos de uma lista\n",
    "\n",
    "sum(numeros)"
   ]
  },
  {
   "cell_type": "code",
   "execution_count": null,
   "id": "a4ea6ea3",
   "metadata": {
    "ExecuteTime": {
     "end_time": "2023-06-29T23:27:35.335331Z",
     "start_time": "2023-06-29T23:27:35.312749Z"
    }
   },
   "outputs": [],
   "source": [
    "# Crie uma lista qualquer e imprima cada um dos elementos usando while\n",
    "\n",
    "numeros = [1, 3, 5, 7, 9]\n",
    "indice = 0\n",
    "\n",
    "while indice < len(numeros):\n",
    "    print(numeros[indice])\n",
    "    indice += 1"
   ]
  },
  {
   "cell_type": "code",
   "execution_count": null,
   "id": "c65aa2e3",
   "metadata": {
    "ExecuteTime": {
     "end_time": "2023-06-29T23:33:04.852539Z",
     "start_time": "2023-06-29T23:33:02.725599Z"
    }
   },
   "outputs": [],
   "source": [
    "# Crie uma lista crescente (começando do 0) com a quantidade de elementos dada pelo usuário\n",
    "\n",
    "numero = int(input('Digite a quantidade da lista: '))\n",
    "\n",
    "lista = []\n",
    "indice = 0\n",
    "\n",
    "while indice < numero:\n",
    "    lista.append(indice)\n",
    "    indice += 1\n",
    "\n",
    "print(lista)\n",
    "print(len(lista))"
   ]
  },
  {
   "cell_type": "code",
   "execution_count": null,
   "id": "f7d29b9c",
   "metadata": {
    "ExecuteTime": {
     "end_time": "2023-06-29T23:42:43.573109Z",
     "start_time": "2023-06-29T23:42:43.562622Z"
    }
   },
   "outputs": [],
   "source": [
    "# Poderíamos substitui tudo por range(valor)\n",
    "\n",
    "range(0,5) # cria uma lista de índice 0 a índice 5 (exclusivo)\n",
    "\n",
    "print(f\"O {range(0,5)} cria uma lista [0, 1, 2, 3, 4]\")"
   ]
  },
  {
   "cell_type": "code",
   "execution_count": null,
   "id": "1b5dfd34",
   "metadata": {
    "ExecuteTime": {
     "end_time": "2023-06-29T23:43:22.469671Z",
     "start_time": "2023-06-29T23:43:22.454646Z"
    }
   },
   "outputs": [],
   "source": [
    "range(5)"
   ]
  },
  {
   "cell_type": "code",
   "execution_count": 60,
   "id": "bb5da1d9",
   "metadata": {
    "ExecuteTime": {
     "end_time": "2023-06-29T23:46:18.391787Z",
     "start_time": "2023-06-29T23:46:16.515786Z"
    }
   },
   "outputs": [
    {
     "ename": "TypeError",
     "evalue": "'range' object is not callable",
     "output_type": "error",
     "traceback": [
      "\u001b[1;31m---------------------------------------------------------------------------\u001b[0m",
      "\u001b[1;31mTypeError\u001b[0m                                 Traceback (most recent call last)",
      "Cell \u001b[1;32mIn[60], line 6\u001b[0m\n\u001b[0;32m      3\u001b[0m numero \u001b[38;5;241m=\u001b[39m \u001b[38;5;28mint\u001b[39m(\u001b[38;5;28minput\u001b[39m(\u001b[38;5;124m'\u001b[39m\u001b[38;5;124mDigite a quantidade da lista: \u001b[39m\u001b[38;5;124m'\u001b[39m))\n\u001b[0;32m      4\u001b[0m \u001b[38;5;28mrange\u001b[39m(\u001b[38;5;241m0\u001b[39m,numero)\n\u001b[1;32m----> 6\u001b[0m \u001b[38;5;28mprint\u001b[39m(\u001b[38;5;28;43mlist\u001b[39;49m\u001b[43m(\u001b[49m\u001b[38;5;28;43mrange\u001b[39;49m\u001b[43m(\u001b[49m\u001b[38;5;241;43m0\u001b[39;49m\u001b[43m,\u001b[49m\u001b[43m \u001b[49m\u001b[38;5;241;43m10\u001b[39;49m\u001b[43m)\u001b[49m\u001b[43m)\u001b[49m)\n",
      "\u001b[1;31mTypeError\u001b[0m: 'range' object is not callable"
     ]
    }
   ],
   "source": [
    "# voltando ao exercicio anterior\n",
    "\n",
    "numero = int(input('Digite a quantidade da lista: '))\n",
    "range(0,numero)\n",
    "\n",
    "print(list(range(0, 10)))"
   ]
  },
  {
   "cell_type": "markdown",
   "id": "9d63c551",
   "metadata": {},
   "source": [
    "**Maneiras de percorrer uma lista**\n",
    "\n",
    "numeros = [1, 3, 5, 7, 9]\n",
    "\n",
    "- Usando while\n",
    "\n",
    "Pros: Eu sei não só o elemento mas sei o indice também   \n",
    "Contra: Eu preciso controlar o índice\n",
    "\n",
    "```python\n",
    "contador = 0\n",
    "while (contador < len(numeros)):\n",
    "    print(numeros[contador])\n",
    "    contador = contador + 1  Se eu esquecer essa linha vira um loop infinito\n",
    "```\n",
    "\n",
    "\n",
    "- Jeito intermediario: for in range\n",
    "\n",
    "Pros: Sei o indice, não preciso controlar o loop  \n",
    "Contra: Precisa saber usar a função range  \n",
    "range(5) ->  [0, 1, 2, 3, 4]\n",
    "\n",
    "```python\n",
    "numeros = [1, 3, 5, 7, 9]\n",
    "for indice in range(len(numeros)):\n",
    "    print(numeros[indice])\n",
    "```\n",
    "\n",
    "\n",
    "- Usando só for (sem índice)\n",
    "\n",
    "Pros: não preciso me preocupar com o índice e nem com loop  \n",
    "Contra: não sei índice\n",
    "\n",
    "```python\n",
    "numeros = [1, 3, 5, 7, 9]\n",
    "for numero in numeros:        numero é uma especie de variavel temporaria, usamos item, elemento, etc\n",
    "    print(numero)\n",
    "```"
   ]
  },
  {
   "cell_type": "markdown",
   "id": "d9b25c6c",
   "metadata": {},
   "source": [
    "Vamos ver um exemplo:"
   ]
  },
  {
   "cell_type": "code",
   "execution_count": null,
   "id": "575436e8",
   "metadata": {
    "ExecuteTime": {
     "end_time": "2023-06-29T23:57:04.136886Z",
     "start_time": "2023-06-29T23:57:04.125680Z"
    }
   },
   "outputs": [],
   "source": [
    "numeros = [1, 3, 5, 7, 9] # tenho essa lista\n",
    "\n",
    "# imprimir todos os elementos dessa lista sem usar o while\n",
    "\n",
    "print(numeros[0]) # ----> numeros[i]\n",
    "print(numeros[1])\n",
    "print(numeros[2])\n",
    "print(numeros[3])\n",
    "print(numeros[4])\n",
    "\n",
    "print('\\nDeixando o problema de forma genérica:\\n ')\n",
    "\n",
    "for i in range(5): # range é exclusivo range(5) = range(0,5) = range(inicio,fim)\n",
    "    print(numeros[i])\n",
    "\n",
    "\n",
    "print('\\nDeixando o problema de forma mais genérica ainda:\\n ')\n",
    "\n",
    "for i in range(len(numeros)): # range é exclusivo range(5) = range(0,5) = range(inicio,fim)\n",
    "    print(numeros[i])"
   ]
  },
  {
   "cell_type": "code",
   "execution_count": null,
   "id": "8026d21c",
   "metadata": {
    "ExecuteTime": {
     "end_time": "2023-06-29T23:58:36.091895Z",
     "start_time": "2023-06-29T23:58:36.078306Z"
    }
   },
   "outputs": [],
   "source": [
    "# Mais uma forma de usar o for - percorrer cada item da lista\n",
    "\n",
    "numeros = [1, 3, 5, 7, 9]\n",
    "\n",
    "for item in numeros:\n",
    "    print(item)"
   ]
  },
  {
   "cell_type": "markdown",
   "id": "efb6b72d",
   "metadata": {},
   "source": [
    "**Exercícios**"
   ]
  },
  {
   "cell_type": "markdown",
   "id": "80de8ffc",
   "metadata": {},
   "source": [
    "1. Crie uma lista qualquer e faça um programa que imprima cada elemento da lista usando o for."
   ]
  },
  {
   "cell_type": "code",
   "execution_count": null,
   "id": "d6af39e7",
   "metadata": {},
   "outputs": [],
   "source": [
    "lista = range(0,5)\n",
    "for i in lista:\n",
    "    print(lista[i])"
   ]
  },
  {
   "cell_type": "markdown",
   "id": "5ba15420",
   "metadata": {},
   "source": [
    "2. Faça um programa que imprima todos os itens de uma lista usando while e compare com o exercício 1.\n",
    "\n"
   ]
  },
  {
   "cell_type": "code",
   "execution_count": null,
   "id": "16c160ee",
   "metadata": {},
   "outputs": [],
   "source": [
    "lista = range(0,5)\n",
    "i = 0\n",
    "\n",
    "while i < len(lista):\n",
    "    print(lista[i])\n",
    "    i += 1"
   ]
  },
  {
   "cell_type": "markdown",
   "id": "b8fc8680",
   "metadata": {},
   "source": [
    "3) Faça um programa que peça para o usuário digitar um número n e imprima uma lista com todos os números de 0 a n-1."
   ]
  },
  {
   "cell_type": "code",
   "execution_count": null,
   "id": "9972e860",
   "metadata": {},
   "outputs": [],
   "source": [
    "num = int(input('Digite um número'))\n",
    "lista = []\n",
    "\n",
    "for i in range(num):\n",
    "    lista.append(i)\n",
    "\n",
    "print(lista)"
   ]
  },
  {
   "cell_type": "code",
   "execution_count": 59,
   "id": "978b24b4",
   "metadata": {},
   "outputs": [
    {
     "ename": "TypeError",
     "evalue": "'range' object is not callable",
     "output_type": "error",
     "traceback": [
      "\u001b[1;31m---------------------------------------------------------------------------\u001b[0m",
      "\u001b[1;31mTypeError\u001b[0m                                 Traceback (most recent call last)",
      "Cell \u001b[1;32mIn[59], line 1\u001b[0m\n\u001b[1;32m----> 1\u001b[0m \u001b[38;5;28mprint\u001b[39m(\u001b[38;5;28;43mlist\u001b[39;49m\u001b[43m(\u001b[49m\u001b[38;5;28;43mrange\u001b[39;49m\u001b[43m(\u001b[49m\u001b[38;5;241;43m0\u001b[39;49m\u001b[43m,\u001b[49m\u001b[43m \u001b[49m\u001b[38;5;28;43mint\u001b[39;49m\u001b[43m(\u001b[49m\u001b[38;5;28;43minput\u001b[39;49m\u001b[43m(\u001b[49m\u001b[38;5;124;43m'\u001b[39;49m\u001b[38;5;124;43mDigite um número:\u001b[39;49m\u001b[38;5;124;43m'\u001b[39;49m\u001b[43m)\u001b[49m\u001b[43m)\u001b[49m\u001b[43m)\u001b[49m\u001b[43m)\u001b[49m)\n",
      "\u001b[1;31mTypeError\u001b[0m: 'range' object is not callable"
     ]
    }
   ],
   "source": [
    "print(list(range(0, int(input('Digite um número:')))))"
   ]
  },
  {
   "cell_type": "markdown",
   "id": "2a24e132",
   "metadata": {},
   "source": [
    "4. Faça um programa que olhe todos os itens de uma lista e diga quantos deles são pares. "
   ]
  },
  {
   "cell_type": "code",
   "execution_count": 40,
   "id": "9422559f",
   "metadata": {},
   "outputs": [
    {
     "name": "stdout",
     "output_type": "stream",
     "text": [
      "5 números pares\n"
     ]
    }
   ],
   "source": [
    "lista = range(10)\n",
    "pares = 0\n",
    "\n",
    "for i in lista:\n",
    "    if i % 2 == 0:\n",
    "        pares +=1\n",
    "\n",
    "print(f'{pares} números pares')"
   ]
  },
  {
   "cell_type": "markdown",
   "id": "d18b5e09",
   "metadata": {},
   "source": [
    "5. Faça um programa que imprima o maior número de uma lista, sem usar o método max()"
   ]
  },
  {
   "cell_type": "code",
   "execution_count": 42,
   "id": "d544044a",
   "metadata": {},
   "outputs": [
    {
     "name": "stdout",
     "output_type": "stream",
     "text": [
      "Maior npumero é 10.\n"
     ]
    }
   ],
   "source": [
    "lista = range(11)\n",
    "max = 0\n",
    "\n",
    "for i in lista:\n",
    "  if i > max:\n",
    "    max = i\n",
    "\n",
    "print(f'Maior npumero é {max}.')"
   ]
  },
  {
   "cell_type": "markdown",
   "id": "de77429c",
   "metadata": {},
   "source": [
    "6. Agora usando o método max() faça um programa que imprima os três maiores números de uma lista. "
   ]
  },
  {
   "cell_type": "code",
   "execution_count": null,
   "id": "ee8cff90",
   "metadata": {},
   "outputs": [],
   "source": [
    "lista = range(11)\n",
    "\n",
    "for i in range(4):\n",
    "    max = lista(i)\n"
   ]
  },
  {
   "cell_type": "markdown",
   "id": "805a40b8",
   "metadata": {},
   "source": [
    "7. Faça um programa que, dadas duas listas de mesmo tamanho, crie uma nova lista com cada elemento igual a soma dos elementos da lista 1 com os da lista 2, na mesma posição. "
   ]
  },
  {
   "cell_type": "code",
   "execution_count": 38,
   "id": "da1bceeb",
   "metadata": {},
   "outputs": [
    {
     "name": "stdout",
     "output_type": "stream",
     "text": [
      "[6, 14, 13, 7]\n"
     ]
    }
   ],
   "source": [
    "lista1 = [2, 6, 4, 5]\n",
    "lista2 = [4, 8, 9, 2]\n",
    "nova_lista = []\n",
    "\n",
    "for i in range(len(lista1)):\n",
    "    nova_lista.append(lista1[i] + lista2[i])\n",
    "\n",
    "print(nova_lista)"
   ]
  },
  {
   "cell_type": "markdown",
   "id": "d2ee0a79",
   "metadata": {},
   "source": [
    "8. Faça um programa que dadas duas listas de mesmo tamanho, imprima o produto escalar entre elas. "
   ]
  },
  {
   "cell_type": "code",
   "execution_count": 45,
   "id": "52e01a23",
   "metadata": {},
   "outputs": [
    {
     "name": "stdout",
     "output_type": "stream",
     "text": [
      "102\n"
     ]
    }
   ],
   "source": [
    "lista1 = [2, 6, 4, 5]\n",
    "lista2 = [4, 8, 9, 2]\n",
    "escalar = 0\n",
    "\n",
    "for i in range(len(lista1)):\n",
    "    escalar += lista1[i] * lista2[i]\n",
    "\n",
    "print(escalar)"
   ]
  },
  {
   "cell_type": "markdown",
   "id": "551c234e",
   "metadata": {},
   "source": [
    "9. Faça um programa que pede para o usuário digitar 5 números e, ao final, imprime uma lista com os 5 números digitados pelo usuário (sem converter os números para int ou float). "
   ]
  },
  {
   "cell_type": "code",
   "execution_count": 53,
   "id": "d978eddb",
   "metadata": {},
   "outputs": [
    {
     "name": "stdout",
     "output_type": "stream",
     "text": [
      "['5', '6', '9', '8', '5']\n"
     ]
    }
   ],
   "source": [
    "numeros = []\n",
    "\n",
    "for i in range(1,6):\n",
    "    numeros.append(input('Digite a nota {i}'))\n",
    "\n",
    "print(numeros)"
   ]
  },
  {
   "cell_type": "markdown",
   "id": "437b4b02",
   "metadata": {},
   "source": [
    "10. Pegue a lista gerada no exercício anterior e transforme cada um dos itens dessa lista em um float."
   ]
  },
  {
   "cell_type": "code",
   "execution_count": 56,
   "id": "0a2ff416",
   "metadata": {},
   "outputs": [
    {
     "name": "stdout",
     "output_type": "stream",
     "text": [
      "[5.0, 6.0, 9.0, 8.0, 5.0]\n"
     ]
    }
   ],
   "source": [
    "numeros_float= []\n",
    "\n",
    "for item in numeros:\n",
    "    numeros_float.append(float(item))\n",
    "\n",
    "print(numeros_float)"
   ]
  },
  {
   "cell_type": "markdown",
   "id": "1f274ced",
   "metadata": {},
   "source": [
    "11. Faça um Programa que peça as 4 notas bimestrais e mostre a média, usando listas."
   ]
  },
  {
   "cell_type": "code",
   "execution_count": 58,
   "id": "0beeca4f",
   "metadata": {},
   "outputs": [
    {
     "name": "stdout",
     "output_type": "stream",
     "text": [
      "Média 6.0\n"
     ]
    }
   ],
   "source": [
    "notas = []\n",
    "\n",
    "for i in range(1,5):\n",
    "    notas.append(float(input('Digite a nota {i}')))\n",
    "\n",
    "print(f'Média {sum(notas) / len(notas)}')"
   ]
  }
 ],
 "metadata": {
  "kernelspec": {
   "display_name": "Python 3 (ipykernel)",
   "language": "python",
   "name": "python3"
  },
  "language_info": {
   "codemirror_mode": {
    "name": "ipython",
    "version": 3
   },
   "file_extension": ".py",
   "mimetype": "text/x-python",
   "name": "python",
   "nbconvert_exporter": "python",
   "pygments_lexer": "ipython3",
   "version": "3.12.1"
  },
  "varInspector": {
   "cols": {
    "lenName": 16,
    "lenType": 16,
    "lenVar": 40
   },
   "kernels_config": {
    "python": {
     "delete_cmd_postfix": "",
     "delete_cmd_prefix": "del ",
     "library": "var_list.py",
     "varRefreshCmd": "print(var_dic_list())"
    },
    "r": {
     "delete_cmd_postfix": ") ",
     "delete_cmd_prefix": "rm(",
     "library": "var_list.r",
     "varRefreshCmd": "cat(var_dic_list()) "
    }
   },
   "types_to_exclude": [
    "module",
    "function",
    "builtin_function_or_method",
    "instance",
    "_Feature"
   ],
   "window_display": false
  }
 },
 "nbformat": 4,
 "nbformat_minor": 5
}
