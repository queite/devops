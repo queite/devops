{
 "cells": [
  {
   "cell_type": "markdown",
   "id": "72cae5bf",
   "metadata": {},
   "source": [
    "<div style=\"background-color: lightgreen; padding: 18px;\">\n",
    "    <h1> Coding Tank | Vem Ser Tech \n",
    "</div>"
   ]
  },
  {
   "cell_type": "markdown",
   "id": "36ea7563",
   "metadata": {},
   "source": [
    "<div style=\"background-color: lightblue; padding: 10px;\">\n",
    "    <h2> Tópicos da aula - AULA 3\n",
    "</div>\n",
    "    \n",
    "- Estruturas de repetição\n",
    "- Loop while"
   ]
  },
  {
   "cell_type": "markdown",
   "id": "e339739b",
   "metadata": {},
   "source": [
    "Na aula passada fizemos o programa que a pessoa digitava 2 números e a gente dizia o maior. E se quisermos saber qual o maior entre 3 valores? E se quisermos 10? E se quisermos 100? Conseguimos fazer?"
   ]
  },
  {
   "cell_type": "code",
   "execution_count": 2,
   "id": "3a4661d9",
   "metadata": {},
   "outputs": [
    {
     "name": "stdout",
     "output_type": "stream",
     "text": [
      "Digite um número: 5\n",
      "Digite outro número: 5\n",
      "Os números são iguais e tem o valor de 5\n"
     ]
    }
   ],
   "source": [
    "# Exemplo da aula passada com a comparação entre\n",
    "\n",
    "num1 = int(input(\"Digite um número: \"))\n",
    "num2 = int(input(\"Digite outro número: \"))\n",
    "\n",
    "if num1 > num2:\n",
    "    print(f'O maior valor entre eles é {num1}')\n",
    "elif num2 > num1:\n",
    "    print(f'O maior valor entre eles é {num2}')\n",
    "else:\n",
    "    print(f\"Os números são iguais e tem o valor de {num1}\")"
   ]
  },
  {
   "cell_type": "code",
   "execution_count": 3,
   "id": "370b6564",
   "metadata": {},
   "outputs": [
    {
     "name": "stdout",
     "output_type": "stream",
     "text": [
      "Digite um número: 1\n",
      "Digite outro número: 10\n",
      "Digite outro número: 5\n",
      "O maior valor entre eles é 10\n"
     ]
    }
   ],
   "source": [
    "# Acrescentando mais um número para comparar\n",
    "\n",
    "num1 = int(input(\"Digite um número: \"))\n",
    "num2 = int(input(\"Digite outro número: \"))\n",
    "num3 = int(input(\"Digite outro número: \"))\n",
    "\n",
    "if num1 >= num2 and num1 >= num3:\n",
    "    print(f'O maior valor entre eles é {num1}')\n",
    "elif num2 >= num1 and num2 >= num3:\n",
    "    print(f'O maior valor entre eles é {num2}')\n",
    "elif num3 >= num1 and num3 >= num2:\n",
    "    print(f'O maior valor entre eles é {num3}')\n",
    "else:\n",
    "    print(f\"Nunca passo por aqui\") # se eles são iguais"
   ]
  },
  {
   "cell_type": "markdown",
   "id": "3fe6e9ae",
   "metadata": {},
   "source": [
    "# Estruturas de Repetição\n",
    "\n",
    "Um **if** não garante que eu consigo validar o valor de um campo pois se o usuário não acertar na 2a vez, ele seguirá inválido"
   ]
  },
  {
   "cell_type": "code",
   "execution_count": 4,
   "id": "3045daff",
   "metadata": {},
   "outputs": [
    {
     "name": "stdout",
     "output_type": "stream",
     "text": [
      "digite seu salário: 1000\n",
      "salário inválido, digite outro: 500\n"
     ]
    }
   ],
   "source": [
    "salario = float(input(\"digite seu salário: \"))\n",
    "\n",
    "if salario < 1100:\n",
    "    salario = float(input(\"salário inválido, digite outro: \"))\n",
    "else:\n",
    "    print(\"valido\", salario)"
   ]
  },
  {
   "cell_type": "code",
   "execution_count": 5,
   "id": "df254367",
   "metadata": {},
   "outputs": [
    {
     "name": "stdout",
     "output_type": "stream",
     "text": [
      "digite seu salário: 1000\n",
      "salário inválido, digite outro: 500\n",
      "salário inválido, digite outro: 300\n"
     ]
    }
   ],
   "source": [
    "salario = float(input(\"digite seu salário: \"))\n",
    "\n",
    "if salario < 1100:\n",
    "    salario = float(input(\"salário inválido, digite outro: \"))\n",
    "if salario < 1100:\n",
    "    salario = float(input(\"salário inválido, digite outro: \"))\n",
    "else:\n",
    "    print(\"valido\", salario)"
   ]
  },
  {
   "cell_type": "code",
   "execution_count": 6,
   "id": "f51d6cc9",
   "metadata": {},
   "outputs": [
    {
     "name": "stdout",
     "output_type": "stream",
     "text": [
      "digite seu salário: 1000\n",
      "salário inválido, digite outro: 500\n",
      "salário inválido, digite outro: 300\n",
      "salário inválido, digite outro: 100\n",
      "salário inválido, digite outro: 2000\n",
      "2000.0\n"
     ]
    }
   ],
   "source": [
    "salario = float(input(\"digite seu salário: \"))\n",
    "\n",
    "while salario < 1100: # Recebe uma expressão lógica\n",
    "    # Enquanto a expressão for veradeira (True), ele repete as linhas que estão aqui dentro\n",
    "    salario = float(input(\"salário inválido, digite outro: \"))\n",
    "\n",
    "print(salario)"
   ]
  },
  {
   "cell_type": "markdown",
   "id": "04103985",
   "metadata": {},
   "source": [
    "__Obs.__: SEMPRE que eu trabalho com estrutura de repetição (**WHILE**) é NECESSÁRIO que a condição seja alterada dentro do while, SENÃO entro em looping infinito"
   ]
  },
  {
   "cell_type": "markdown",
   "id": "541e4a88",
   "metadata": {},
   "source": [
    "<div style=\"background-color: red; padding: 10px;\">\n",
    "    <h2> CUIDADO AO RODAR - é um loop infinito\n",
    "</div>"
   ]
  },
  {
   "cell_type": "code",
   "execution_count": null,
   "id": "44c98aa4",
   "metadata": {},
   "outputs": [],
   "source": [
    "# Exemplo de looping infinito\n",
    "salario = float(input(\"digite seu salário: \"))\n",
    "\n",
    "while salario < 1100:\n",
    "    print(salario)\n",
    "\n",
    "# CUIDADO AO RODAR - é um loop infinito"
   ]
  },
  {
   "cell_type": "code",
   "execution_count": 7,
   "id": "dda1fea4",
   "metadata": {},
   "outputs": [
    {
     "name": "stdout",
     "output_type": "stream",
     "text": [
      "Digite um número: 5\n",
      "Digite um novo número ou digite 0 para encerrar: 10\n",
      "O maior valor é 10\n",
      "Digite um novo número ou digite 0 para encerrar: 3\n",
      "O maior valor é 10\n",
      "Digite um novo número ou digite 0 para encerrar: 11\n",
      "O maior valor é 11\n",
      "Digite um novo número ou digite 0 para encerrar: 20\n",
      "O maior valor é 20\n",
      "Digite um novo número ou digite 0 para encerrar: 0\n",
      "O maior valor é 20\n",
      "O maior valor digitado foi 20\n"
     ]
    }
   ],
   "source": [
    "numero = int(input('Digite um número: '))\n",
    "\n",
    "maior = numero\n",
    "\n",
    "while numero != 0:\n",
    "    numero = int(input('Digite um novo número ou digite 0 para encerrar: '))\n",
    "    if numero > maior:\n",
    "        maior = numero\n",
    "    print(f\"O maior valor é {maior}\")\n",
    "print(f\"O maior valor digitado foi {maior}\")\n"
   ]
  },
  {
   "cell_type": "markdown",
   "id": "b5f4c9f2",
   "metadata": {},
   "source": [
    "__Exemplo:__ Some todos os números de 0 a um número digitado pelo usuário"
   ]
  },
  {
   "cell_type": "code",
   "execution_count": 8,
   "id": "85036462",
   "metadata": {},
   "outputs": [],
   "source": [
    "# vamos digitar 4:\n",
    "\n",
    "# 0 + 1 + 2 + 3 + 4 = 10\n",
    "\n",
    "# 4 + 3 + 2 + 1 + 0 = 10\n",
    "\n",
    "# digitar 3:\n",
    "\n",
    "# 0 + 1 + 2 + 3 = 6\n",
    "\n",
    "# digitar 7:\n",
    "\n",
    "# 0 + 1 + 2 + 3 + 4 + 5 + 6 + 7 = 28"
   ]
  },
  {
   "cell_type": "code",
   "execution_count": 9,
   "id": "559afceb",
   "metadata": {},
   "outputs": [
    {
     "name": "stdout",
     "output_type": "stream",
     "text": [
      "Digite um número positivo: 4\n",
      "A soma é 10\n"
     ]
    }
   ],
   "source": [
    "soma = 0\n",
    "\n",
    "numero = int(input('Digite um número positivo: '))\n",
    "\n",
    "while numero > 0: # numero  = 4\n",
    "    soma = soma + numero # 0 + 4 = 4 (soma)\n",
    "    numero = numero - 1 # numero = 4 - 1 = 3\n",
    "\n",
    "print(f'A soma é {soma}')"
   ]
  },
  {
   "cell_type": "code",
   "execution_count": 10,
   "id": "6a859a59",
   "metadata": {},
   "outputs": [
    {
     "name": "stdout",
     "output_type": "stream",
     "text": [
      "Digite um número inteiro positivo: 7\n",
      "O número é 7\n",
      "A soma, por enquanto, é 7\n",
      "O número atualizado é 6\n",
      "O número é 6\n",
      "A soma, por enquanto, é 13\n",
      "O número atualizado é 5\n",
      "O número é 5\n",
      "A soma, por enquanto, é 18\n",
      "O número atualizado é 4\n",
      "O número é 4\n",
      "A soma, por enquanto, é 22\n",
      "O número atualizado é 3\n",
      "O número é 3\n",
      "A soma, por enquanto, é 25\n",
      "O número atualizado é 2\n",
      "O número é 2\n",
      "A soma, por enquanto, é 27\n",
      "O número atualizado é 1\n",
      "O número é 1\n",
      "A soma, por enquanto, é 28\n",
      "O número atualizado é 0\n",
      "A soma é 28\n"
     ]
    }
   ],
   "source": [
    "soma = 0\n",
    "numero = int(input('Digite um número inteiro positivo: '))\n",
    "\n",
    "while (numero > 0): # numero = 0\n",
    "    print(f'O número é {numero}')\n",
    "    soma = soma + numero # 9 + 1 = 10 (soma)\n",
    "    print(f'A soma, por enquanto, é {soma}')\n",
    "    numero = numero - 1 # numero = 1 - 1 = 0\n",
    "    print(f'O número atualizado é {numero}')\n",
    "\n",
    "print(f'A soma é {soma}')"
   ]
  },
  {
   "cell_type": "code",
   "execution_count": 11,
   "id": "298d9fe4",
   "metadata": {},
   "outputs": [
    {
     "name": "stdout",
     "output_type": "stream",
     "text": [
      "Digite um número: 4\n",
      "10\n"
     ]
    }
   ],
   "source": [
    "soma = 0\n",
    "contador = 0\n",
    "\n",
    "limite = int(input('Digite um número: '))\n",
    "\n",
    "while contador <= limite:\n",
    "    soma = soma + contador\n",
    "    contador = contador + 1\n",
    "\n",
    "print(soma)"
   ]
  },
  {
   "cell_type": "markdown",
   "id": "a54f1580",
   "metadata": {},
   "source": [
    "Uma outra forma de incrementar um variável"
   ]
  },
  {
   "cell_type": "code",
   "execution_count": 12,
   "id": "410cca56",
   "metadata": {},
   "outputs": [
    {
     "name": "stdout",
     "output_type": "stream",
     "text": [
      "Digite um número: 4\n",
      "10\n"
     ]
    }
   ],
   "source": [
    "soma = 0\n",
    "contador = 0\n",
    "\n",
    "limite = int(input('Digite um número: '))\n",
    "\n",
    "while contador <= limite:\n",
    "    soma = soma + contador\n",
    "    contador += 1 # Incrementando (adicionando 1 a minha variável) ---: contador = contador + 1 é igual a contador += 1\n",
    "\n",
    "print(soma)"
   ]
  },
  {
   "cell_type": "markdown",
   "id": "fff96799",
   "metadata": {},
   "source": [
    "# Alguns comandos de manipulação de fluxo\n",
    "\n",
    "Comando **break**: Utilizado para interromper a execução de um laço (for ou while) antes que ele termine normalmente.\n",
    "\n",
    "```python\n",
    "for item in sequencia:\n",
    "    if condicao:\n",
    "        break\n",
    "```\n",
    "\n",
    "Comando **continue**: Utilizado para pular a iteração atual de um laço e continuar com a próxima iteração.\n",
    "\n",
    "\n",
    "```python\n",
    "for item in sequencia:\n",
    "    if condicao:\n",
    "        continue\n",
    "    # O código aqui será executado apenas se a condição for falsa\n",
    "```\n",
    "   \n",
    "Comando **pass**: É usado como espaço reservado para código futuro. Não faz nada e é frequentemente usado para evitar erros de sintaxe em blocos vazios.\n",
    "\n",
    "```python\n",
    "if condicao:\n",
    "    pass  # código será adicionado posteriormente\n",
    "\n",
    "```"
   ]
  },
  {
   "cell_type": "markdown",
   "id": "07ed062c",
   "metadata": {},
   "source": [
    "Neste exercício, você deve criar um jogo simples em que o jogador tenta adivinhar um número secreto. O jogo continua até o jogador adivinhar corretamente ou desistir."
   ]
  },
  {
   "cell_type": "code",
   "execution_count": null,
   "id": "ac1011cc",
   "metadata": {},
   "outputs": [],
   "source": [
    "numero_secreto = 42\n",
    "\n",
    "while True:  #equivalente ao do while\n",
    "    tentativa = int(input(\"Tente adivinhar o número: \"))\n",
    "\n",
    "    if tentativa == numero_secreto:\n",
    "        print(\"Parabéns, você acertou!\")\n",
    "        break\n",
    "    elif tentativa < numero_secreto:\n",
    "        print(\"Tente um número maior.\")\n",
    "    else:\n",
    "        print(\"Tente um número menor.\")\n"
   ]
  },
  {
   "cell_type": "markdown",
   "id": "bc0eb076",
   "metadata": {},
   "source": [
    "**Bora praticar!**\n",
    "\n",
    "1) Escreva um programa que solicite um número inteiro e imprima na tela todos os números de 1 até o número digitado, separado por espaços.  \n",
    "_Exemplo_  \n",
    "número digitado: 5  \n",
    "resultado esperado: 1 2 3 4 5\n",
    "\n",
    "2) Faça um programa que mostre o fatorial de um número digitado.  \n",
    "_Exemplo_  \n",
    "número digitado: 5  \n",
    "resultado esperado: 120\n",
    "\n",
    "3) Faça um programa que imprima a tabuada do 9 na tela (entre 1 e 10). Insira a conta, por exemplo, 9 * 1 = 9, sendo cada um dos valores em uma linha diferente.\n",
    "\n",
    "4) Faça um programa em que o usuário digite números quaisquer e encerrará no momento em que o valor 0 seja digitado. Ao final diga qual foi o maior número digitado.\n",
    "\n",
    "5) Faça um script que peça para o usuário digitar a idade, o salário e o sexo de uma pessoa até que as entradas digitadas sejam válidas.  \n",
    "  \n",
    "a. Idade: entre 0 e 150  \n",
    "b. Salário: maior que 0  \n",
    "c. Gênero: M, F ou Outro  \n",
    "  \n",
    "Por último imprima os dados recebidos do usuário.\n",
    "\n",
    "6) Faça uma calculadora. O usuário deve inserir qual a operação matemática ele deseja realizar e logo em seguida os dois números. O programa deve finalizar apenas quando o usuário digitar a opção \"sair\" no momento de escolha da operação matemática.\n",
    "\n"
   ]
  },
  {
   "cell_type": "markdown",
   "id": "647738a0",
   "metadata": {},
   "source": [
    "## Resolução\n",
    "\n",
    "Coloque a solução dos exercícios abaixo no dontpad.com/turma922\n",
    "\n",
    "\n",
    "1) Escreva um programa que solicite um número inteiro e imprima na tela todos os números de 1 até o número digitado, separado por espaços.  \n",
    "_Exemplo_  \n",
    "número digitado: 5  \n",
    "resultado esperado: 1 2 3 4 5"
   ]
  },
  {
   "cell_type": "code",
   "execution_count": 26,
   "id": "03e0df92",
   "metadata": {},
   "outputs": [
    {
     "name": "stdout",
     "output_type": "stream",
     "text": [
      "número digitado: 5\n",
      "resultado esperado: 1 2 3 4 5 "
     ]
    }
   ],
   "source": [
    "num = int(input('Digite um número: '))\n",
    "print(f\"número digitado: {num}\\nresultado esperado:\", end=' ')\n",
    "\n",
    "for i in range(1, num +1):\n",
    "    print(i, end=' ')\n"
   ]
  },
  {
   "cell_type": "code",
   "execution_count": 20,
   "id": "39d487c1",
   "metadata": {},
   "outputs": [
    {
     "name": "stdout",
     "output_type": "stream",
     "text": [
      "1 2 3 4 5\n"
     ]
    }
   ],
   "source": [
    "num = int(input('Digite um número: '))\n",
    "contador = 1\n",
    "resultado = \"\"\n",
    "\n",
    "while contador <= num:\n",
    "    if contador == 1:\n",
    "        resultado = str(contador)\n",
    "    else:\n",
    "        resultado = f'{resultado} {str(contador)}'\n",
    "    contador += 1\n",
    "\n",
    "print(resultado)"
   ]
  },
  {
   "cell_type": "markdown",
   "id": "c3814815",
   "metadata": {},
   "source": [
    "2) Faça um programa que mostre o fatorial de um número digitado.  \n",
    "_Exemplo_  \n",
    "número digitado: 5  \n",
    "resultado esperado: 120"
   ]
  },
  {
   "cell_type": "code",
   "execution_count": 17,
   "id": "82b445cf",
   "metadata": {},
   "outputs": [
    {
     "name": "stdout",
     "output_type": "stream",
     "text": [
      "120\n"
     ]
    }
   ],
   "source": [
    "numero = int(input(\"Digite um número inteiro positivo: \"))\n",
    "resultado = 1\n",
    "count = 1\n",
    "\n",
    "while count <= numero:\n",
    "    resultado *= count\n",
    "    count += 1\n",
    "\n",
    "print(resultado)"
   ]
  },
  {
   "cell_type": "code",
   "execution_count": 19,
   "id": "f8625710",
   "metadata": {},
   "outputs": [
    {
     "name": "stdout",
     "output_type": "stream",
     "text": [
      "120\n"
     ]
    }
   ],
   "source": [
    "numero = int(input(\"Digite um número inteiro positivo: \"))\n",
    "resultado = 1\n",
    "\n",
    "for i in range(1, numero +1):\n",
    "    resultado *= i\n",
    "\n",
    "print(resultado)"
   ]
  },
  {
   "cell_type": "markdown",
   "id": "8edfd4c8",
   "metadata": {},
   "source": [
    "3) Faça um programa que imprima a tabuada do 9 na tela (entre 1 e 10). Insira a conta, por exemplo, 9 * 1 = 9, sendo cada um dos valores em uma linha diferente."
   ]
  },
  {
   "cell_type": "code",
   "execution_count": 18,
   "id": "cbf855d4",
   "metadata": {},
   "outputs": [
    {
     "name": "stdout",
     "output_type": "stream",
     "text": [
      "9 * 1 = 9\n",
      "9 * 2 = 18\n",
      "9 * 3 = 27\n",
      "9 * 4 = 36\n",
      "9 * 5 = 45\n",
      "9 * 6 = 54\n",
      "9 * 7 = 63\n",
      "9 * 8 = 72\n",
      "9 * 9 = 81\n",
      "9 * 10 = 90\n"
     ]
    }
   ],
   "source": [
    "for i in range(1, 11):\n",
    "  print(f'9 * {i} = {i * 9}')"
   ]
  },
  {
   "cell_type": "markdown",
   "id": "c07b56c5",
   "metadata": {},
   "source": [
    "4) Faça um programa em que o usuário digite números quaisquer e encerrará no momento em que o valor 0 seja digitado. Ao final diga qual foi o maior número digitado."
   ]
  },
  {
   "cell_type": "code",
   "execution_count": 38,
   "id": "894158f1",
   "metadata": {},
   "outputs": [
    {
     "name": "stdout",
     "output_type": "stream",
     "text": [
      "O maior npumero digitado foi 8.0.\n"
     ]
    }
   ],
   "source": [
    "num = float(input('Digite um número: (Para sair digite 0)'))\n",
    "maior = 0\n",
    "\n",
    "while num != 0:\n",
    "    if num > maior:\n",
    "        maior = num\n",
    "    num = float(input('Digite um número:'))\n",
    "\n",
    "print(f'O maior npumero digitado foi {maior}.')"
   ]
  },
  {
   "cell_type": "markdown",
   "id": "7fd3a936",
   "metadata": {},
   "source": [
    "5) Faça um script que peça para o usuário digitar a idade, o salário e o sexo de uma pessoa até que as entradas digitadas sejam válidas.  \n",
    "  \n",
    "a. Idade: entre 0 e 150  \n",
    "b. Salário: maior que 0  \n",
    "c. Gênero: M, F ou Outro  \n",
    "  \n",
    "Por último imprima os dados recebidos do usuário."
   ]
  },
  {
   "cell_type": "code",
   "execution_count": null,
   "id": "4b4cd9ba",
   "metadata": {},
   "outputs": [],
   "source": [
    "idade = int(input(\"Digite sua idade: \"))\n",
    "\n",
    "while idade < 0 or idade > 150:\n",
    "    print(\"Idade inválida! Tente novamente.\")\n",
    "    idade = int(input(\"Digite sua idade: \"))\n",
    "\n",
    "salario = float(input(\"Digite o salário: \"))\n",
    "while salario <= 0:\n",
    "    print(\"Salário inválido! Digite novamente.\")\n",
    "    salario = float(input(\"Digite o salário: \"))\n",
    "\n",
    "sexo = input(\"Genero : M, F ou OUTRO\").upper()\n",
    "while not (sexo == 'F' or sexo == 'M' or sexo == 'OUTRO'):\n",
    "    print(\"Sexo inválido, digite novamente.\")\n",
    "\n",
    "print(f\"Sua idade é {idade}\\nSeu salário é {salario}\\nSeu gênero é {sexo}.\")"
   ]
  },
  {
   "cell_type": "code",
   "execution_count": null,
   "id": "3d337b01",
   "metadata": {},
   "outputs": [],
   "source": []
  },
  {
   "cell_type": "markdown",
   "id": "51a71f3b",
   "metadata": {},
   "source": [
    "6) Faça uma calculadora. O usuário deve inserir qual a operação matemática ele deseja realizar e logo em seguida os dois números. O programa deve finalizar apenas quando o usuário digitar a opção \"sair\" no momento de escolha da operação matemática."
   ]
  },
  {
   "cell_type": "code",
   "execution_count": 36,
   "id": "6ed0754c",
   "metadata": {},
   "outputs": [
    {
     "name": "stdout",
     "output_type": "stream",
     "text": [
      "1 - adição\n",
      "2 - subtração\n",
      "3 - multiplicação\n",
      "4 - divisão\n",
      "5 - sair\n",
      "6.0 - 3.0 = 3.0\n",
      "5.0 / 6.0 = 0.8333333333333334\n"
     ]
    }
   ],
   "source": [
    "print(\"1 - adição\\n2 - subtração\\n3 - multiplicação\\n4 - divisão\\n5 - sair\")\n",
    "operacao = int(input('Informe a operação desejada. Digite 1,2,3,4 ou 5 para sair.'))\n",
    "\n",
    "while operacao != 5:\n",
    "    num1 = float(input('Digite o primeiro número'))\n",
    "    num2 = float(input('Digite o segundo número'))\n",
    "    if operacao == 1:\n",
    "        print(f'{num1} + {num2} = {num1 + num2}')\n",
    "    elif operacao == 2:\n",
    "        print(f'{num1} - {num2} = {num1 - num2}')\n",
    "    elif operacao == 3:\n",
    "        print(f'{num1} * {num2} = {num1 * num2}')\n",
    "    elif operacao == 4:\n",
    "        print(f'{num1} / {num2} = {num1 / num2}')\n",
    "    else:\n",
    "        print('Operação inválida')\n",
    "\n",
    "    operacao = int(input('Informe a operação desejada. Digite 1,2,3,4 ou 5 para sair.'))"
   ]
  },
  {
   "cell_type": "code",
   "execution_count": null,
   "id": "97c92312",
   "metadata": {},
   "outputs": [],
   "source": []
  }
 ],
 "metadata": {
  "kernelspec": {
   "display_name": "Python 3 (ipykernel)",
   "language": "python",
   "name": "python3"
  },
  "language_info": {
   "codemirror_mode": {
    "name": "ipython",
    "version": 3
   },
   "file_extension": ".py",
   "mimetype": "text/x-python",
   "name": "python",
   "nbconvert_exporter": "python",
   "pygments_lexer": "ipython3",
   "version": "3.12.1"
  }
 },
 "nbformat": 4,
 "nbformat_minor": 5
}
