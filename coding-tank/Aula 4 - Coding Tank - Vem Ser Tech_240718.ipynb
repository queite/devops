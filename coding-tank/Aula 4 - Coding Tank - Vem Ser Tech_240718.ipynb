{
 "cells": [
  {
   "cell_type": "markdown",
   "id": "341a085c",
   "metadata": {},
   "source": [
    "<div style=\"background-color: lightgreen; padding: 18px;\">\n",
    "    <h1> Coding Tank | Vem Ser Tech \n",
    "</div>"
   ]
  },
  {
   "cell_type": "markdown",
   "id": "f0230d44",
   "metadata": {},
   "source": [
    "<div style=\"background-color: lightblue; padding: 10px;\">\n",
    "    <h2> Tópicos da aula - AULA 4\n",
    "</div>\n",
    "\n",
    "- Loop for\n",
    "- Listas\n",
    "- Índices\n",
    "- Iterações de listas\n",
    "- Métodos de listas"
   ]
  },
  {
   "cell_type": "markdown",
   "id": "ddaaaec8",
   "metadata": {},
   "source": [
    "E se quisermos fazer o programa que a pessoa digita 10 números e dizemos o maior, conseguimos?\n",
    "\n",
    "E se quisermos o 2° maior? E se quisermos o 5º? \n",
    "\n",
    "Podemos resolver com **listas**\n",
    "\n",
    "- Listas\n",
    "\n",
    "Listas são coleções de objetos em Python e é expressada em `[]`"
   ]
  },
  {
   "cell_type": "code",
   "execution_count": 11,
   "id": "e626193f",
   "metadata": {
    "ExecuteTime": {
     "end_time": "2023-06-29T00:53:10.121923Z",
     "start_time": "2023-06-29T00:53:10.111155Z"
    }
   },
   "outputs": [],
   "source": [
    "lista_1 = []  # lista vazia\n",
    "lista_2 = [1, 2, 3, 4]\n",
    "lista_3 = list() # criando uma lista -> neste caso, estou criando uma lista vazia\n",
    "lista_4 = [1, 2.5, 3, 4]\n",
    "lista_5 = [1, 2.0, 'três'] # misturando int, float, str\n",
    "lista_6 = [1, [2, 3]] # lista dentro de lista"
   ]
  },
  {
   "cell_type": "code",
   "execution_count": null,
   "id": "f233c7ce",
   "metadata": {},
   "outputs": [],
   "source": [
    "[1, 2, 3, 4, 5, 6, 7, 8, 9, 10]\n",
    "#0  1  2  3  4  5  6  7  8   9"
   ]
  },
  {
   "cell_type": "code",
   "execution_count": 1,
   "id": "8a7398da",
   "metadata": {
    "ExecuteTime": {
     "end_time": "2023-06-29T00:56:41.565104Z",
     "start_time": "2023-06-29T00:56:41.555151Z"
    }
   },
   "outputs": [],
   "source": [
    "lista =  [1, 3, 5, 7, 9, 11, 13, 15, 17, 21] # 10 elementos\n",
    "# índices 0  1  2  3  4  5   6   7   8   9  ---> no python sempre começa com índice ZERO\n",
    "# índice => posição dos elementos"
   ]
  },
  {
   "cell_type": "code",
   "execution_count": 2,
   "id": "4541e94a",
   "metadata": {
    "ExecuteTime": {
     "end_time": "2023-06-29T00:56:58.487031Z",
     "start_time": "2023-06-29T00:56:58.477176Z"
    }
   },
   "outputs": [
    {
     "data": {
      "text/plain": [
       "[1, 3, 5, 7, 9, 11, 13, 15, 17, 21]"
      ]
     },
     "execution_count": 2,
     "metadata": {},
     "output_type": "execute_result"
    }
   ],
   "source": [
    "lista # posição dos elementos é importante"
   ]
  },
  {
   "cell_type": "code",
   "execution_count": 3,
   "id": "8a57fec8",
   "metadata": {
    "ExecuteTime": {
     "end_time": "2023-06-29T00:57:40.345041Z",
     "start_time": "2023-06-29T00:57:40.339545Z"
    }
   },
   "outputs": [
    {
     "data": {
      "text/plain": [
       "10"
      ]
     },
     "execution_count": 3,
     "metadata": {},
     "output_type": "execute_result"
    }
   ],
   "source": [
    "# Funções e métodos de listas\n",
    "\n",
    "len(lista) # quantidade de elementos da lista"
   ]
  },
  {
   "cell_type": "code",
   "execution_count": 4,
   "id": "03ac344a",
   "metadata": {
    "ExecuteTime": {
     "end_time": "2023-06-29T22:26:30.681040Z",
     "start_time": "2023-06-29T22:26:30.671086Z"
    }
   },
   "outputs": [
    {
     "data": {
      "text/plain": [
       "1"
      ]
     },
     "execution_count": 4,
     "metadata": {},
     "output_type": "execute_result"
    }
   ],
   "source": [
    "# Acessar os elementos da lista a partir da posição\n",
    "lista[0] # o num 1 é a posição 0 da lista"
   ]
  },
  {
   "cell_type": "code",
   "execution_count": 5,
   "id": "f9777dd0",
   "metadata": {
    "ExecuteTime": {
     "end_time": "2023-06-29T22:26:58.328878Z",
     "start_time": "2023-06-29T22:26:58.315522Z"
    }
   },
   "outputs": [
    {
     "data": {
      "text/plain": [
       "21"
      ]
     },
     "execution_count": 5,
     "metadata": {},
     "output_type": "execute_result"
    }
   ],
   "source": [
    "lista[9] # o elemento 21 é a posição 9 da lista"
   ]
  },
  {
   "cell_type": "code",
   "execution_count": null,
   "id": "fb4cc5b7",
   "metadata": {
    "ExecuteTime": {
     "end_time": "2023-06-29T22:27:19.356689Z",
     "start_time": "2023-06-29T22:27:19.312779Z"
    }
   },
   "outputs": [],
   "source": [
    "# Acessar os elementos da lista\n",
    "\n",
    "print(lista[0]) # mostra o valor da posição zero da variável lista\n",
    "\n",
    "print(lista[1])\n",
    "\n",
    "print(lista[2])\n",
    "\n",
    "print(lista[3])\n",
    "\n",
    "print(lista[4])\n",
    "\n",
    "print(lista[5])\n",
    "\n",
    "print(lista[9])\n",
    "\n",
    "print(lista[10]) # Dá erro pois não tem a posição de índice 10 (lembrando que o python começa no zero)"
   ]
  },
  {
   "cell_type": "code",
   "execution_count": 7,
   "id": "0339c0fc",
   "metadata": {
    "ExecuteTime": {
     "end_time": "2023-06-29T22:28:00.578066Z",
     "start_time": "2023-06-29T22:28:00.567809Z"
    }
   },
   "outputs": [
    {
     "name": "stdout",
     "output_type": "stream",
     "text": [
      "[1, 3, 5, 7, 9, 11, 13, 15, 17, 21]\n"
     ]
    }
   ],
   "source": [
    "print(lista)"
   ]
  },
  {
   "cell_type": "code",
   "execution_count": 12,
   "id": "6f038b2b",
   "metadata": {
    "ExecuteTime": {
     "end_time": "2023-06-29T22:28:06.511060Z",
     "start_time": "2023-06-29T22:28:06.501774Z"
    }
   },
   "outputs": [
    {
     "data": {
      "text/plain": [
       "list"
      ]
     },
     "execution_count": 12,
     "metadata": {},
     "output_type": "execute_result"
    }
   ],
   "source": [
    "type(lista_5) # saber o tipo da var lista_5"
   ]
  },
  {
   "cell_type": "code",
   "execution_count": 13,
   "id": "1c1228df",
   "metadata": {
    "ExecuteTime": {
     "end_time": "2023-06-29T22:28:53.370752Z",
     "start_time": "2023-06-29T22:28:53.345190Z"
    }
   },
   "outputs": [
    {
     "data": {
      "text/plain": [
       "int"
      ]
     },
     "execution_count": 13,
     "metadata": {},
     "output_type": "execute_result"
    }
   ],
   "source": [
    "type(lista_5[0]) # saber o tipo do elemento zero da lista"
   ]
  },
  {
   "cell_type": "code",
   "execution_count": 14,
   "id": "20e426c5",
   "metadata": {
    "ExecuteTime": {
     "end_time": "2023-06-29T22:29:03.492265Z",
     "start_time": "2023-06-29T22:29:03.475031Z"
    }
   },
   "outputs": [
    {
     "data": {
      "text/plain": [
       "float"
      ]
     },
     "execution_count": 14,
     "metadata": {},
     "output_type": "execute_result"
    }
   ],
   "source": [
    "type(lista_5[1])"
   ]
  },
  {
   "cell_type": "code",
   "execution_count": 15,
   "id": "459eedd9",
   "metadata": {
    "ExecuteTime": {
     "end_time": "2023-06-29T22:29:09.389792Z",
     "start_time": "2023-06-29T22:29:09.372341Z"
    }
   },
   "outputs": [
    {
     "data": {
      "text/plain": [
       "str"
      ]
     },
     "execution_count": 15,
     "metadata": {},
     "output_type": "execute_result"
    }
   ],
   "source": [
    "type(lista_5[2])"
   ]
  },
  {
   "cell_type": "code",
   "execution_count": 16,
   "id": "f2fc4556",
   "metadata": {
    "ExecuteTime": {
     "end_time": "2023-06-29T22:29:58.239341Z",
     "start_time": "2023-06-29T22:29:58.227247Z"
    }
   },
   "outputs": [
    {
     "data": {
      "text/plain": [
       "'três'"
      ]
     },
     "execution_count": 16,
     "metadata": {},
     "output_type": "execute_result"
    }
   ],
   "source": [
    "lista_5[-1] # -1 ele vai para o último elemento da lista"
   ]
  },
  {
   "cell_type": "code",
   "execution_count": 19,
   "id": "329ac2df",
   "metadata": {
    "ExecuteTime": {
     "end_time": "2023-06-29T22:50:42.362629Z",
     "start_time": "2023-06-29T22:50:42.336530Z"
    }
   },
   "outputs": [
    {
     "name": "stdout",
     "output_type": "stream",
     "text": [
      "[1, 3, 5, 7, 9, 11, 13, 15, 17, 21]\n",
      "[1, 3, 5]\n",
      "[1, 3, 5]\n",
      "[13, 15, 17, 21]\n",
      "[13, 15, 17, 21]\n",
      "[13, 15, 17]\n",
      "[7, 9, 11]\n",
      "1\n",
      "[1]\n",
      "[3, 5, 7, 9, 11, 13, 15]\n",
      "[3, 7, 11, 15]\n",
      "[3, 11]\n",
      "\n",
      "\n",
      "[1, 2, 3, 4, 5, 6, 7, 8, 9, 10]\n",
      "[1, 3, 5, 7, 9]\n",
      "[2, 4, 6, 8, 10]\n"
     ]
    }
   ],
   "source": [
    "# Quebrar e acessando a lista\n",
    "[1, 3, 5, 7, 9, 11, 13, 15, 17, 21]\n",
    "\n",
    "print(lista[:]) # lista[inicio:fim]    [:] --> todos os valores   lista != lista[:] pois [:] criando uma cópia\n",
    "\n",
    "print(lista[0:3]) # os 3 primeiros elementos da lista\n",
    "print(lista[:3]) # os 3 primeiros elementos da lista\n",
    "\n",
    "print(lista[6:10]) # do valor 13 até o final --> pq o últimmo valor é exclusivo (ou seja, não entra)\n",
    "print(lista[6:]) # do valor 13 até o final\n",
    "\n",
    "print(lista[6:-1])\n",
    "\n",
    "print(lista[3:6])\n",
    "\n",
    "print(lista[0])\n",
    "print(lista[0:1])\n",
    "\n",
    "print(lista[1:8])\n",
    "\n",
    "print(lista[1:8:2]) # do início ao fim em passos --> lista[inicio:fim:passo]\n",
    "\n",
    "print(lista[1:8:4]) # do início ao fim em passos --> lista[inicio:fim:passo]\n",
    "\n",
    "\n",
    "print('\\n')\n",
    "minha_lista = [1, 2, 3, 4, 5, 6, 7, 8, 9, 10]\n",
    "print(minha_lista)\n",
    "print(minha_lista[::2])\n",
    "print(minha_lista[1::2])\n"
   ]
  },
  {
   "cell_type": "code",
   "execution_count": 20,
   "id": "ad7bb5f1",
   "metadata": {},
   "outputs": [
    {
     "data": {
      "text/plain": [
       "[1, 3]"
      ]
     },
     "execution_count": 20,
     "metadata": {},
     "output_type": "execute_result"
    }
   ],
   "source": [
    "lista[0:2]"
   ]
  },
  {
   "cell_type": "code",
   "execution_count": 21,
   "id": "dbc27522",
   "metadata": {},
   "outputs": [
    {
     "data": {
      "text/plain": [
       "[9, 11]"
      ]
     },
     "execution_count": 21,
     "metadata": {},
     "output_type": "execute_result"
    }
   ],
   "source": [
    "lista[4:6]"
   ]
  },
  {
   "cell_type": "code",
   "execution_count": 22,
   "id": "12e560d7",
   "metadata": {},
   "outputs": [
    {
     "data": {
      "text/plain": [
       "[1, 3, 9, 11]"
      ]
     },
     "execution_count": 22,
     "metadata": {},
     "output_type": "execute_result"
    }
   ],
   "source": [
    "lista[0:2] + lista[4:6] # concatenando listas"
   ]
  },
  {
   "cell_type": "code",
   "execution_count": 23,
   "id": "afc26e8e",
   "metadata": {
    "ExecuteTime": {
     "end_time": "2023-06-29T22:53:07.476480Z",
     "start_time": "2023-06-29T22:53:07.455763Z"
    }
   },
   "outputs": [
    {
     "name": "stdout",
     "output_type": "stream",
     "text": [
      "[1, 3, 11, 7, 9, 11, 13, 15, 17, 21]\n"
     ]
    }
   ],
   "source": [
    "# substituir um valor da lista\n",
    "\n",
    "lista[2] = 11 # substiruir o valor 5 pelo 11 usando o índice 2\n",
    "\n",
    "print(lista)"
   ]
  },
  {
   "cell_type": "code",
   "execution_count": 24,
   "id": "7c369dcf",
   "metadata": {
    "ExecuteTime": {
     "end_time": "2023-06-29T22:54:39.387621Z",
     "start_time": "2023-06-29T22:54:39.366577Z"
    }
   },
   "outputs": [
    {
     "name": "stdout",
     "output_type": "stream",
     "text": [
      "[1, 3, 11, 7, 9, 11, 13, 15, 17, 21, 99]\n"
     ]
    }
   ],
   "source": [
    "# acrescentar valores na lista --> usando a \"função\" append\n",
    "\n",
    "lista.append(99) # acrescentar o valor 99 na última posição\n",
    "\n",
    "print(lista)"
   ]
  },
  {
   "cell_type": "code",
   "execution_count": 25,
   "id": "56be891f",
   "metadata": {
    "ExecuteTime": {
     "end_time": "2023-06-29T23:38:11.739834Z",
     "start_time": "2023-06-29T23:38:11.715051Z"
    }
   },
   "outputs": [
    {
     "data": {
      "text/plain": [
       "[1, 2.5, 3, 4, 1, 2.0, 'três']"
      ]
     },
     "execution_count": 25,
     "metadata": {},
     "output_type": "execute_result"
    }
   ],
   "source": [
    "lista_4 + lista_5"
   ]
  },
  {
   "cell_type": "markdown",
   "id": "f4bac6d5",
   "metadata": {
    "ExecuteTime": {
     "end_time": "2023-06-29T22:52:13.757377Z",
     "start_time": "2023-06-29T22:52:13.737024Z"
    }
   },
   "source": [
    "Existem várias outras funções/métodos de listas que vocês irão aprender no próximo módulo, como:\n",
    "\n",
    "- append\n",
    "- insert\n",
    "- remove\n",
    "- pop\n",
    "- sort\n",
    "- sorted\n",
    "- reverse\n",
    "- index\n",
    "- max, min, len\n",
    "    "
   ]
  },
  {
   "cell_type": "code",
   "execution_count": 26,
   "id": "9ef2b47c",
   "metadata": {},
   "outputs": [
    {
     "name": "stdout",
     "output_type": "stream",
     "text": [
      "[1, 3, 11, 7, 9, 11, 13, 15, 17, 21, 99]\n"
     ]
    }
   ],
   "source": [
    "print(lista)"
   ]
  },
  {
   "cell_type": "code",
   "execution_count": 27,
   "id": "9733e054",
   "metadata": {},
   "outputs": [],
   "source": [
    "lista.insert(5, 500)"
   ]
  },
  {
   "cell_type": "code",
   "execution_count": 28,
   "id": "5d383c7c",
   "metadata": {},
   "outputs": [
    {
     "name": "stdout",
     "output_type": "stream",
     "text": [
      "[1, 3, 11, 7, 9, 500, 11, 13, 15, 17, 21, 99]\n"
     ]
    }
   ],
   "source": [
    "print(lista)"
   ]
  },
  {
   "cell_type": "code",
   "execution_count": 29,
   "id": "ca6d0afc",
   "metadata": {},
   "outputs": [],
   "source": [
    "lista.remove(11) # remove o valor 11 da lista"
   ]
  },
  {
   "cell_type": "code",
   "execution_count": 30,
   "id": "4508f5d4",
   "metadata": {},
   "outputs": [
    {
     "name": "stdout",
     "output_type": "stream",
     "text": [
      "[1, 3, 7, 9, 500, 11, 13, 15, 17, 21, 99]\n"
     ]
    }
   ],
   "source": [
    "print(lista)"
   ]
  },
  {
   "cell_type": "code",
   "execution_count": 31,
   "id": "54997199",
   "metadata": {},
   "outputs": [
    {
     "data": {
      "text/plain": [
       "99"
      ]
     },
     "execution_count": 31,
     "metadata": {},
     "output_type": "execute_result"
    }
   ],
   "source": [
    "lista.pop()"
   ]
  },
  {
   "cell_type": "code",
   "execution_count": 32,
   "id": "33693dcf",
   "metadata": {},
   "outputs": [
    {
     "name": "stdout",
     "output_type": "stream",
     "text": [
      "[1, 3, 7, 9, 500, 11, 13, 15, 17, 21]\n"
     ]
    }
   ],
   "source": [
    "print(lista)"
   ]
  },
  {
   "cell_type": "code",
   "execution_count": 33,
   "id": "6df17408",
   "metadata": {},
   "outputs": [
    {
     "data": {
      "text/plain": [
       "11"
      ]
     },
     "execution_count": 33,
     "metadata": {},
     "output_type": "execute_result"
    }
   ],
   "source": [
    "lista.pop(5) # remove o valor da posição 5"
   ]
  },
  {
   "cell_type": "code",
   "execution_count": 34,
   "id": "c5304899",
   "metadata": {},
   "outputs": [
    {
     "name": "stdout",
     "output_type": "stream",
     "text": [
      "[1, 3, 7, 9, 500, 13, 15, 17, 21]\n"
     ]
    }
   ],
   "source": [
    "print(lista)"
   ]
  },
  {
   "cell_type": "code",
   "execution_count": 41,
   "id": "eb90e370",
   "metadata": {
    "ExecuteTime": {
     "end_time": "2023-06-29T22:56:30.796648Z",
     "start_time": "2023-06-29T22:56:30.777686Z"
    }
   },
   "outputs": [],
   "source": [
    "lista_2 = sorted(lista)"
   ]
  },
  {
   "cell_type": "code",
   "execution_count": 45,
   "id": "64d6a73f",
   "metadata": {},
   "outputs": [],
   "source": [
    "lista.sort()"
   ]
  },
  {
   "cell_type": "code",
   "execution_count": 46,
   "id": "54d0dc1d",
   "metadata": {},
   "outputs": [
    {
     "data": {
      "text/plain": [
       "[1, 3, 7, 9, 13, 15, 17, 21, 500]"
      ]
     },
     "execution_count": 46,
     "metadata": {},
     "output_type": "execute_result"
    }
   ],
   "source": [
    "lista"
   ]
  },
  {
   "cell_type": "code",
   "execution_count": 42,
   "id": "b78547b3",
   "metadata": {},
   "outputs": [
    {
     "name": "stdout",
     "output_type": "stream",
     "text": [
      "[1, 3, 7, 9, 13, 15, 17, 21, 500]\n"
     ]
    }
   ],
   "source": [
    "print(lista_2)"
   ]
  },
  {
   "cell_type": "code",
   "execution_count": 43,
   "id": "97345d08",
   "metadata": {},
   "outputs": [],
   "source": [
    "lista_2.reverse()"
   ]
  },
  {
   "cell_type": "code",
   "execution_count": 44,
   "id": "48136a1b",
   "metadata": {},
   "outputs": [
    {
     "data": {
      "text/plain": [
       "[500, 21, 17, 15, 13, 9, 7, 3, 1]"
      ]
     },
     "execution_count": 44,
     "metadata": {},
     "output_type": "execute_result"
    }
   ],
   "source": [
    "lista_2"
   ]
  },
  {
   "cell_type": "code",
   "execution_count": 47,
   "id": "cd79e129",
   "metadata": {
    "ExecuteTime": {
     "end_time": "2023-06-29T22:56:52.653894Z",
     "start_time": "2023-06-29T22:56:52.636248Z"
    }
   },
   "outputs": [
    {
     "data": {
      "text/plain": [
       "500"
      ]
     },
     "execution_count": 47,
     "metadata": {},
     "output_type": "execute_result"
    }
   ],
   "source": [
    "max(lista)"
   ]
  },
  {
   "cell_type": "code",
   "execution_count": 48,
   "id": "7d06c247",
   "metadata": {
    "ExecuteTime": {
     "end_time": "2023-06-29T22:56:59.905041Z",
     "start_time": "2023-06-29T22:56:59.879562Z"
    }
   },
   "outputs": [
    {
     "data": {
      "text/plain": [
       "1"
      ]
     },
     "execution_count": 48,
     "metadata": {},
     "output_type": "execute_result"
    }
   ],
   "source": [
    "min(lista)"
   ]
  },
  {
   "cell_type": "code",
   "execution_count": 49,
   "id": "1a445a96",
   "metadata": {},
   "outputs": [
    {
     "data": {
      "text/plain": [
       "9"
      ]
     },
     "execution_count": 49,
     "metadata": {},
     "output_type": "execute_result"
    }
   ],
   "source": [
    "len(lista)"
   ]
  },
  {
   "cell_type": "code",
   "execution_count": 50,
   "id": "2e1a56b6",
   "metadata": {
    "ExecuteTime": {
     "end_time": "2023-06-29T23:09:55.227172Z",
     "start_time": "2023-06-29T23:09:49.854071Z"
    }
   },
   "outputs": [
    {
     "name": "stdout",
     "output_type": "stream",
     "text": [
      "[10, 59, 80, 45]\n"
     ]
    }
   ],
   "source": [
    "# como adicionar vários elementos a uma lista enquanto o usuário fornece valores?\n",
    "# se o usuário digitar 0, finaliza o programa\n",
    "\n",
    "lista = [] # criar uma lista vazia ou lista = list()\n",
    "numero = int(input('Digite um número: '))\n",
    "\n",
    "while numero != 0:\n",
    "    lista.append(numero) # adicionando o numero que o usuario digitou na lista\n",
    "    numero = int(input('Digite um número: '))\n",
    "\n",
    "print(lista)"
   ]
  },
  {
   "cell_type": "markdown",
   "id": "d9df7da1",
   "metadata": {},
   "source": [
    "**Percorrer a lista**"
   ]
  },
  {
   "cell_type": "code",
   "execution_count": 51,
   "id": "d53d4480",
   "metadata": {
    "ExecuteTime": {
     "end_time": "2023-06-29T23:22:53.411814Z",
     "start_time": "2023-06-29T23:22:53.402698Z"
    }
   },
   "outputs": [
    {
     "name": "stdout",
     "output_type": "stream",
     "text": [
      "indice 0\n",
      "indice 1\n",
      "indice 2\n",
      "indice 3\n",
      "indice 4\n",
      "indice 5\n",
      "36\n"
     ]
    }
   ],
   "source": [
    "# Dada uma lista de números, somar os elementos dessa lista usando os índices\n",
    "\n",
    "numeros = [1, 3, 5, 7, 9, 11]\n",
    "soma = 0\n",
    "indice = 0\n",
    "\n",
    "while indice < len(numeros) : # substituindo o índice 6 por len(numeros) para ficar genérico\n",
    "    print('indice', indice)\n",
    "    soma = soma + numeros[indice]\n",
    "    indice += 1\n",
    "\n",
    "print(soma)"
   ]
  },
  {
   "cell_type": "code",
   "execution_count": 53,
   "id": "23687d87",
   "metadata": {},
   "outputs": [
    {
     "name": "stdout",
     "output_type": "stream",
     "text": [
      "indice 0\n",
      "indice 1\n",
      "indice 2\n",
      "indice 3\n",
      "indice 4\n",
      "indice 5\n",
      "36\n"
     ]
    }
   ],
   "source": [
    "lista = [1, 3, 5, 7, 9, 11]\n",
    "soma = 0\n",
    "\n",
    "for indice in range(len(lista)):\n",
    "    print('indice', indice)\n",
    "    soma += lista[indice]\n",
    "\n",
    "print(soma)"
   ]
  },
  {
   "cell_type": "code",
   "execution_count": 52,
   "id": "bf65f123",
   "metadata": {
    "ExecuteTime": {
     "end_time": "2023-06-29T23:23:25.535201Z",
     "start_time": "2023-06-29T23:23:25.519513Z"
    }
   },
   "outputs": [
    {
     "data": {
      "text/plain": [
       "36"
      ]
     },
     "execution_count": 52,
     "metadata": {},
     "output_type": "execute_result"
    }
   ],
   "source": [
    "# outra forma de somar todos os elementos de uma lista\n",
    "\n",
    "sum(numeros)"
   ]
  },
  {
   "cell_type": "code",
   "execution_count": 54,
   "id": "a4ea6ea3",
   "metadata": {
    "ExecuteTime": {
     "end_time": "2023-06-29T23:27:35.335331Z",
     "start_time": "2023-06-29T23:27:35.312749Z"
    }
   },
   "outputs": [
    {
     "name": "stdout",
     "output_type": "stream",
     "text": [
      "1\n",
      "3\n",
      "5\n",
      "7\n",
      "9\n"
     ]
    }
   ],
   "source": [
    "# Crie uma lista qualquer e imprima cada um dos elementos usando while\n",
    "\n",
    "numeros = [1, 3, 5, 7, 9]\n",
    "indice = 0\n",
    "\n",
    "while indice < len(numeros):\n",
    "    print(numeros[indice])\n",
    "    indice += 1"
   ]
  },
  {
   "cell_type": "code",
   "execution_count": 55,
   "id": "c65aa2e3",
   "metadata": {
    "ExecuteTime": {
     "end_time": "2023-06-29T23:33:04.852539Z",
     "start_time": "2023-06-29T23:33:02.725599Z"
    }
   },
   "outputs": [
    {
     "name": "stdout",
     "output_type": "stream",
     "text": [
      "[0, 1]\n",
      "2\n"
     ]
    }
   ],
   "source": [
    "# Crie uma lista crescente (começando do 0) com a quantidade de elementos dada pelo usuário\n",
    "\n",
    "numero = int(input('Digite a quantidade da lista: '))\n",
    "\n",
    "lista = []\n",
    "indice = 0\n",
    "\n",
    "while indice < numero:\n",
    "    lista.append(indice)\n",
    "    indice += 1\n",
    "\n",
    "print(lista)\n",
    "print(len(lista))"
   ]
  },
  {
   "cell_type": "code",
   "execution_count": 56,
   "id": "f7d29b9c",
   "metadata": {
    "ExecuteTime": {
     "end_time": "2023-06-29T23:42:43.573109Z",
     "start_time": "2023-06-29T23:42:43.562622Z"
    }
   },
   "outputs": [
    {
     "name": "stdout",
     "output_type": "stream",
     "text": [
      "O range(0, 5) cria uma lista [0, 1, 2, 3, 4]\n"
     ]
    }
   ],
   "source": [
    "# Poderíamos substitui tudo por range(valor)\n",
    "\n",
    "range(0,5) # cria uma lista de índice 0 a índice 5 (exclusivo)\n",
    "\n",
    "print(f\"O {range(0,5)} cria uma lista [0, 1, 2, 3, 4]\")"
   ]
  },
  {
   "cell_type": "code",
   "execution_count": 57,
   "id": "1b5dfd34",
   "metadata": {
    "ExecuteTime": {
     "end_time": "2023-06-29T23:43:22.469671Z",
     "start_time": "2023-06-29T23:43:22.454646Z"
    }
   },
   "outputs": [
    {
     "data": {
      "text/plain": [
       "range(0, 5)"
      ]
     },
     "execution_count": 57,
     "metadata": {},
     "output_type": "execute_result"
    }
   ],
   "source": [
    "range(5)"
   ]
  },
  {
   "cell_type": "code",
   "execution_count": 59,
   "id": "bb5da1d9",
   "metadata": {
    "ExecuteTime": {
     "end_time": "2023-06-29T23:46:18.391787Z",
     "start_time": "2023-06-29T23:46:16.515786Z"
    }
   },
   "outputs": [
    {
     "name": "stdout",
     "output_type": "stream",
     "text": [
      "[0, 1, 2, 3, 4]\n"
     ]
    }
   ],
   "source": [
    "# voltando ao exercicio anterior\n",
    "\n",
    "numero = int(input('Digite a quantidade da lista: '))\n",
    "range(0,numero)\n",
    "\n",
    "print(list(range(0, numero)))"
   ]
  },
  {
   "cell_type": "markdown",
   "id": "9d63c551",
   "metadata": {},
   "source": [
    "**Maneiras de percorrer uma lista**\n",
    "\n",
    "numeros = [1, 3, 5, 7, 9]\n",
    "\n",
    "- Usando while\n",
    "\n",
    "Pros: Eu sei não só o elemento mas sei o indice também   \n",
    "Contra: Eu preciso controlar o índice\n",
    "\n",
    "```python\n",
    "contador = 0\n",
    "while (contador < len(numeros)):\n",
    "    print(numeros[contador])\n",
    "    contador = contador + 1  Se eu esquecer essa linha vira um loop infinito\n",
    "```\n",
    "\n",
    "\n",
    "- Jeito intermediario: for in range\n",
    "\n",
    "Pros: Sei o indice, não preciso controlar o loop  \n",
    "Contra: Precisa saber usar a função range  \n",
    "range(5) ->  [0, 1, 2, 3, 4]\n",
    "\n",
    "```python\n",
    "numeros = [1, 3, 5, 7, 9]\n",
    "for indice in range(len(numeros)):\n",
    "    print(numeros[indice])\n",
    "```\n",
    "\n",
    "\n",
    "- Usando só for (sem índice)\n",
    "\n",
    "Pros: não preciso me preocupar com o índice e nem com loop  \n",
    "Contra: não sei índice\n",
    "\n",
    "```python\n",
    "numeros = [1, 3, 5, 7, 9]\n",
    "for numero in numeros:        numero é uma especie de variavel temporaria, usamos item, elemento, etc\n",
    "    print(numero)\n",
    "```"
   ]
  },
  {
   "cell_type": "markdown",
   "id": "d9b25c6c",
   "metadata": {},
   "source": [
    "Vamos ver um exemplo:"
   ]
  },
  {
   "cell_type": "code",
   "execution_count": null,
   "id": "575436e8",
   "metadata": {
    "ExecuteTime": {
     "end_time": "2023-06-29T23:57:04.136886Z",
     "start_time": "2023-06-29T23:57:04.125680Z"
    }
   },
   "outputs": [],
   "source": [
    "numeros = [1, 3, 5, 7, 9] # tenho essa lista\n",
    "\n",
    "# imprimir todos os elementos dessa lista sem usar o while\n",
    "\n",
    "print(numeros[0]) # ----> numeros[i]\n",
    "print(numeros[1])\n",
    "print(numeros[2])\n",
    "print(numeros[3])\n",
    "print(numeros[4])\n",
    "\n",
    "print('\\nDeixando o problema de forma genérica:\\n ')\n",
    "\n",
    "for i in range(5): # range é exclusivo range(5) = range(0,5) = range(inicio,fim)\n",
    "    print(numeros[i])\n",
    "\n",
    "\n",
    "print('\\nDeixando o problema de forma mais genérica ainda:\\n ')\n",
    "\n",
    "for i in range(len(numeros)): # range é exclusivo range(5) = range(0,5) = range(inicio,fim)\n",
    "    print(numeros[i])"
   ]
  },
  {
   "cell_type": "code",
   "execution_count": null,
   "id": "8026d21c",
   "metadata": {
    "ExecuteTime": {
     "end_time": "2023-06-29T23:58:36.091895Z",
     "start_time": "2023-06-29T23:58:36.078306Z"
    }
   },
   "outputs": [],
   "source": [
    "# Mais uma forma de usar o for - percorrer cada item da lista\n",
    "\n",
    "numeros = [1, 3, 5, 7, 9]\n",
    "\n",
    "for item in numeros:\n",
    "    print(item)"
   ]
  },
  {
   "cell_type": "markdown",
   "id": "efb6b72d",
   "metadata": {},
   "source": [
    "**Exercícios**"
   ]
  },
  {
   "cell_type": "markdown",
   "id": "80de8ffc",
   "metadata": {},
   "source": [
    "1. Crie uma lista qualquer e faça um programa que imprima cada elemento da lista usando o for."
   ]
  },
  {
   "cell_type": "code",
   "execution_count": 60,
   "id": "d6af39e7",
   "metadata": {},
   "outputs": [
    {
     "name": "stdout",
     "output_type": "stream",
     "text": [
      "1\n",
      "3\n",
      "5.0\n",
      "7\n",
      "9\n",
      "maça\n"
     ]
    }
   ],
   "source": [
    "lista = [1, 3, 5.0, 7, 9, 'maça']\n",
    "\n",
    "# forma 1\n",
    "for i in range(len(lista)):\n",
    "    print(lista[i])\n",
    "\n",
    "# forma 2\n",
    "for item in lista:\n",
    "    print(item)"
   ]
  },
  {
   "cell_type": "markdown",
   "id": "5ba15420",
   "metadata": {},
   "source": [
    "2. Faça um programa que imprima todos os itens de uma lista usando while e compare com o exercício 1."
   ]
  },
  {
   "cell_type": "code",
   "execution_count": 65,
   "id": "16c160ee",
   "metadata": {},
   "outputs": [
    {
     "name": "stdout",
     "output_type": "stream",
     "text": [
      "1\n",
      "3\n",
      "5.0\n",
      "7\n",
      "9\n",
      "maça\n"
     ]
    }
   ],
   "source": [
    "lista = [1, 3, 5.0, 7, 9, 'maça']\n",
    "index = 0\n",
    "\n",
    "while index < len(lista):\n",
    "    print(lista[index])\n",
    "    index += 1"
   ]
  },
  {
   "cell_type": "code",
   "execution_count": 69,
   "id": "33808d3c",
   "metadata": {},
   "outputs": [
    {
     "name": "stdout",
     "output_type": "stream",
     "text": [
      "1\n",
      "3\n",
      "5.0\n",
      "7\n",
      "9\n",
      "maça\n",
      "[]\n"
     ]
    }
   ],
   "source": [
    "lista = [1, 3, 5.0, 7, 9, 'maça']\n",
    "\n",
    "while len(lista) > 0:\n",
    "    print(lista.pop(0))\n",
    "\n",
    "print(lista)"
   ]
  },
  {
   "cell_type": "code",
   "execution_count": 73,
   "id": "bae9da76",
   "metadata": {},
   "outputs": [
    {
     "name": "stdout",
     "output_type": "stream",
     "text": [
      "1\n",
      "3\n",
      "5.0\n",
      "7\n",
      "9\n",
      "maça\n",
      "[]\n",
      "[]\n"
     ]
    }
   ],
   "source": [
    "lista = [1, 3, 5.0, 7, 9, 'maça']\n",
    "\n",
    "lista2 = lista\n",
    "\n",
    "while len(lista2) > 0:\n",
    "    print(lista2.pop(0))\n",
    "\n",
    "print(lista2)\n",
    "print(lista)"
   ]
  },
  {
   "cell_type": "code",
   "execution_count": 72,
   "id": "40478a94",
   "metadata": {},
   "outputs": [
    {
     "name": "stdout",
     "output_type": "stream",
     "text": [
      "1\n",
      "3\n",
      "5.0\n",
      "7\n",
      "9\n",
      "maça\n",
      "[]\n",
      "[1, 3, 5.0, 7, 9, 'maça']\n"
     ]
    }
   ],
   "source": [
    "lista = [1, 3, 5.0, 7, 9, 'maça']\n",
    "\n",
    "lista2 = lista[:]\n",
    "\n",
    "while len(lista2) > 0:\n",
    "    print(lista2.pop(0))\n",
    "\n",
    "print(lista2)\n",
    "print(lista)"
   ]
  },
  {
   "cell_type": "markdown",
   "id": "b8fc8680",
   "metadata": {},
   "source": [
    "3) Faça um programa que peça para o usuário digitar um número n e imprima uma lista com todos os números de 0 a n-1."
   ]
  },
  {
   "cell_type": "code",
   "execution_count": 76,
   "id": "9972e860",
   "metadata": {},
   "outputs": [
    {
     "name": "stdout",
     "output_type": "stream",
     "text": [
      "[0, 1, 2, 3, 4, 5, 6, 7, 8, 9]\n"
     ]
    }
   ],
   "source": [
    "print(list(range(0, int(input('Digite um número: ')))))"
   ]
  },
  {
   "cell_type": "markdown",
   "id": "2a24e132",
   "metadata": {},
   "source": [
    "4. Faça um programa que olhe todos os itens de uma lista e diga quantos deles são pares. "
   ]
  },
  {
   "cell_type": "code",
   "execution_count": null,
   "id": "9422559f",
   "metadata": {},
   "outputs": [],
   "source": []
  },
  {
   "cell_type": "markdown",
   "id": "d18b5e09",
   "metadata": {},
   "source": [
    "5. Faça um programa que imprima o maior número de uma lista, sem usar o método max()"
   ]
  },
  {
   "cell_type": "code",
   "execution_count": 77,
   "id": "d544044a",
   "metadata": {},
   "outputs": [
    {
     "name": "stdout",
     "output_type": "stream",
     "text": [
      "1000\n"
     ]
    }
   ],
   "source": [
    "lista = [1000, 1, 3, 5, 7, 9, 11, -19, 340, 500]\n",
    "\n",
    "lista.sort()\n",
    "\n",
    "print(lista[-1])"
   ]
  },
  {
   "cell_type": "code",
   "execution_count": 79,
   "id": "09b79e37",
   "metadata": {},
   "outputs": [
    {
     "name": "stdout",
     "output_type": "stream",
     "text": [
      "1000\n"
     ]
    }
   ],
   "source": [
    "lista = [1000, 1, 3, 5, 7, 9, 11, -19, 340, 500]\n",
    "\n",
    "print(sorted(lista)[-1])"
   ]
  },
  {
   "cell_type": "code",
   "execution_count": 78,
   "id": "2bbe8e1a",
   "metadata": {},
   "outputs": [
    {
     "name": "stdout",
     "output_type": "stream",
     "text": [
      "1000\n"
     ]
    }
   ],
   "source": [
    "lista = [1, 3, 5, 7, 9, 1000,  11, -19, 340, 500]\n",
    "\n",
    "maior = lista[0]\n",
    "\n",
    "for item in lista[1:]:\n",
    "    if item > maior:\n",
    "        maior = item\n",
    "\n",
    "print(maior)\n"
   ]
  },
  {
   "cell_type": "markdown",
   "id": "de77429c",
   "metadata": {},
   "source": [
    "6. Agora usando o método max() faça um programa que imprima os três maiores números de uma lista. "
   ]
  },
  {
   "cell_type": "code",
   "execution_count": 80,
   "id": "ee8cff90",
   "metadata": {},
   "outputs": [
    {
     "name": "stdout",
     "output_type": "stream",
     "text": [
      "1000\n",
      "500\n",
      "340\n"
     ]
    }
   ],
   "source": [
    "lista = [1, 3, 5, 7, 9, 1000,  11, -19, 340, 500]\n",
    "\n",
    "lista_aux = lista[:]\n",
    "\n",
    "for _ in range(3):\n",
    "    valor = max(lista_aux)\n",
    "    lista_aux.remove(valor)\n",
    "    print(valor)"
   ]
  },
  {
   "cell_type": "markdown",
   "id": "805a40b8",
   "metadata": {},
   "source": [
    "7. Faça um programa que, dadas duas listas de mesmo tamanho, crie uma nova lista com cada elemento igual a soma dos elementos da lista 1 com os da lista 2, na mesma posição. "
   ]
  },
  {
   "cell_type": "code",
   "execution_count": 81,
   "id": "da1bceeb",
   "metadata": {},
   "outputs": [
    {
     "name": "stdout",
     "output_type": "stream",
     "text": [
      "[6, 8, 10, 12]\n"
     ]
    }
   ],
   "source": [
    "lista_1 = [1, 2, 3, 4]\n",
    "lista_2 = [5, 6, 7, 8]\n",
    "lista_3 = []\n",
    "\n",
    "for index in range(len(lista_1)):\n",
    "    lista_3.append(lista_1[index] + lista_2[index])\n",
    "\n",
    "print(lista_3)"
   ]
  },
  {
   "attachments": {
    "image.png": {
     "image/png": "[encoded data removed]"
    }
   },
   "cell_type": "markdown",
   "id": "d2ee0a79",
   "metadata": {},
   "source": [
    "8. Faça um programa que dadas duas listas de mesmo tamanho, imprima o produto escalar entre elas. \n",
    "\n",
    "https://br.neurochispas.com/fisica/formulas-e-propriedades-de-produto-escalar-de-vetores/\n",
    "\n",
    "![image.png](attachment:image.png)"
   ]
  },
  {
   "cell_type": "code",
   "execution_count": 82,
   "id": "52e01a23",
   "metadata": {},
   "outputs": [
    {
     "name": "stdout",
     "output_type": "stream",
     "text": [
      "70\n"
     ]
    }
   ],
   "source": [
    "lista_1 = [1, 2, 3, 4]\n",
    "lista_2 = [5, 6, 7, 8]\n",
    "lista_3 = []\n",
    "\n",
    "for index in range(len(lista_1)):\n",
    "    lista_3.append(lista_1[index] * lista_2[index])\n",
    "\n",
    "print(sum(lista_3))"
   ]
  },
  {
   "cell_type": "code",
   "execution_count": 83,
   "id": "059e2d79",
   "metadata": {},
   "outputs": [
    {
     "name": "stdout",
     "output_type": "stream",
     "text": [
      "70\n"
     ]
    }
   ],
   "source": [
    "lista_1 = [1, 2, 3, 4]\n",
    "lista_2 = [5, 6, 7, 8]\n",
    "\n",
    "list_product_sum = 0\n",
    "\n",
    "for index in range(len(lista_1)):\n",
    "    list_product_sum += (lista_1[index] * lista_2[index])\n",
    "\n",
    "print(list_product_sum)"
   ]
  },
  {
   "cell_type": "markdown",
   "id": "551c234e",
   "metadata": {},
   "source": [
    "9. Faça um programa que pede para o usuário digitar 5 números e, ao final, imprime uma lista com os 5 números digitados pelo usuário (sem converter os números para int ou float). "
   ]
  },
  {
   "cell_type": "code",
   "execution_count": null,
   "id": "d978eddb",
   "metadata": {},
   "outputs": [],
   "source": []
  },
  {
   "cell_type": "markdown",
   "id": "437b4b02",
   "metadata": {},
   "source": [
    "10. Pegue a lista gerada no exercício anterior e transforme cada um dos itens dessa lista em um float."
   ]
  },
  {
   "cell_type": "code",
   "execution_count": 85,
   "id": "0a2ff416",
   "metadata": {},
   "outputs": [
    {
     "name": "stdout",
     "output_type": "stream",
     "text": [
      "['5', '9', '6', '4', '15']\n",
      "[5.0, 9.0, 6.0, 4.0, 15.0]\n"
     ]
    }
   ],
   "source": [
    "numeros = []\n",
    "\n",
    "for _ in range(5):\n",
    "    numero = input('Digite um número: ')\n",
    "    numeros.append(numero)\n",
    "\n",
    "numeros_float = []\n",
    "\n",
    "for numero in numeros:\n",
    "    numeros_float.append(float(numero))\n",
    "\n",
    "print(numeros)\n",
    "print(numeros_float)"
   ]
  },
  {
   "cell_type": "markdown",
   "id": "1f274ced",
   "metadata": {},
   "source": [
    "11. Faça um Programa que peça as 4 notas bimestrais e mostre a média, usando listas."
   ]
  },
  {
   "cell_type": "code",
   "execution_count": 86,
   "id": "0beeca4f",
   "metadata": {},
   "outputs": [
    {
     "name": "stdout",
     "output_type": "stream",
     "text": [
      "7.25\n"
     ]
    }
   ],
   "source": [
    "notas = []\n",
    "\n",
    "for bim in range(4):\n",
    "    notas.append(float(input(f'Digite a nota do {bim+1}º bimestre: ')))\n",
    "\n",
    "print(sum(notas)/len(notas))"
   ]
  },
  {
   "cell_type": "markdown",
   "id": "39e39fea",
   "metadata": {},
   "source": [
    "5.  Tendo como dado de entrada a altura (h) de uma pessoa, construa um algoritmo que calcule seu peso ideal, utilizando as seguintes fórmulas:\n",
    "    - Para homens: (72.7*h) - 58\n",
    "    - Para mulheres: (62.1*h) - 44.7"
   ]
  },
  {
   "cell_type": "code",
   "execution_count": 89,
   "id": "4f424630",
   "metadata": {},
   "outputs": [
    {
     "name": "stdout",
     "output_type": "stream",
     "text": [
      "O peso ideal para uma pessoa do sexo F com altura 1.6 é 54.66 kg\n"
     ]
    }
   ],
   "source": [
    "while True:\n",
    "    sexo = input('Digite o sexo da pessoa [M/F]: ').upper()\n",
    "\n",
    "    if sexo == 'M' or sexo == 'F':\n",
    "        break\n",
    "\n",
    "while True:\n",
    "    altura = float(input('Digite a altura da pessoa [metros]: '))\n",
    "\n",
    "    if altura > 0 and altura < 3:\n",
    "        break\n",
    "\n",
    "if sexo == 'M':\n",
    "    peso_ideal = (72.7 * altura) - 58\n",
    "else:\n",
    "    peso_ideal = (62.1 * altura) - 44.7\n",
    "\n",
    "\n",
    "print(f'O peso ideal para uma pessoa do sexo {sexo} com altura {altura} é {peso_ideal:.2f} kg')"
   ]
  },
  {
   "cell_type": "markdown",
   "id": "7278521b",
   "metadata": {},
   "source": [
    "Dado uma string com uma frase informada pelo usuário (incluindo espaços em branco), conte:\n",
    "quantos espaços em branco existem na frase.\n",
    "quantas vezes aparecem as vogais a, e, i, o, u."
   ]
  },
  {
   "cell_type": "code",
   "execution_count": 94,
   "id": "aa88fe57",
   "metadata": {},
   "outputs": [
    {
     "name": "stdout",
     "output_type": "stream",
     "text": [
      "A frase: vovo viu o video a noite\n",
      "O termo   apareceu 5 vezes na frase\n",
      "O termo a apareceu 1 vezes na frase\n",
      "O termo e apareceu 2 vezes na frase\n",
      "O termo i apareceu 3 vezes na frase\n",
      "O termo o apareceu 5 vezes na frase\n",
      "O termo u apareceu 1 vezes na frase\n"
     ]
    }
   ],
   "source": [
    "frase = input('Digite uma frase: ')\n",
    "\n",
    "termos = [' ', 'a', 'e', 'i', 'o', 'u']\n",
    "contador = [0] * len(termos)\n",
    "\n",
    "for letra in frase:\n",
    "    for index in range(len(termos)):\n",
    "        if letra.lower() == termos[index]:\n",
    "            contador[index] += 1\n",
    "\n",
    "print(f'A frase: {frase}')\n",
    "for index in range(len(termos)):\n",
    "    print(f'O termo {termos[index]} apareceu {contador[index]} vezes na frase')"
   ]
  }
 ],
 "metadata": {
  "kernelspec": {
   "display_name": "Python 3 (ipykernel)",
   "language": "python",
   "name": "python3"
  },
  "language_info": {
   "codemirror_mode": {
    "name": "ipython",
    "version": 3
   },
   "file_extension": ".py",
   "mimetype": "text/x-python",
   "name": "python",
   "nbconvert_exporter": "python",
   "pygments_lexer": "ipython3",
   "version": "3.10.12"
  },
  "varInspector": {
   "cols": {
    "lenName": 16,
    "lenType": 16,
    "lenVar": 40
   },
   "kernels_config": {
    "python": {
     "delete_cmd_postfix": "",
     "delete_cmd_prefix": "del ",
     "library": "var_list.py",
     "varRefreshCmd": "print(var_dic_list())"
    },
    "r": {
     "delete_cmd_postfix": ") ",
     "delete_cmd_prefix": "rm(",
     "library": "var_list.r",
     "varRefreshCmd": "cat(var_dic_list()) "
    }
   },
   "types_to_exclude": [
    "module",
    "function",
    "builtin_function_or_method",
    "instance",
    "_Feature"
   ],
   "window_display": false
  }
 },
 "nbformat": 4,
 "nbformat_minor": 5
}
