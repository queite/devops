{
 "cells": [
  {
   "cell_type": "markdown",
   "metadata": {},
   "source": [
    "Questão 1:\n",
    "Na área de registro de pagamento de um grande banco, é importantíssimo que os dados sejam tratados apropriadamente. Sendo assim, é fundamental que os tipos de variáveis sejam definidos de acordo com a finalidade a que se destinam. Isto posto, considere o trecho de código abaixo, parte de um sistema de processamento de dados de pagamentos:\n",
    "\n",
    "v = input(\"Digite o valor da compra: \")\n",
    "Avaliando as assertivas que se seguem, assinale a alternativa correta.\n",
    "\n",
    "I – a variável v será do tipo str (string).\n",
    "\n",
    "II – sabemos que operações algébricas serão feitas com a variável v no decorrer do programa. Sendo assim, o tipo desta variável é irrelevante.\n",
    "\n",
    "III – a variável v será sempre numérica, dado que a instrução no input indica claramente que seja digitado um valor de compra (que é numérico)\n",
    "\n",
    "a) Apenas a assertiva I é correta\n",
    "b) Apenas a assertiva II é correta\n",
    "c) Apenas a assertiva III é correta\n",
    "d) Todas as assertivas são corretas\n",
    "e) Todas as assertivas são incorretas"
   ]
  },
  {
   "cell_type": "markdown",
   "metadata": {},
   "source": [
    "## Reposta correta a.\n",
    "\n",
    "* Justificativa:\n",
    "Um input sempre traz uma string. Para trazer um número deve haver uma conversão seja diretamente no imput ou no decorrer do código. Neste caso como se pede um valor de compra para retornar um número seria preciso usar o float()."
   ]
  },
  {
   "cell_type": "markdown",
   "metadata": {},
   "source": [
    "Questão 2:\n",
    "Como parte do código de uma rotina de processamento de informações financeiras, precisamos guardar, em uma lista, informações sobre as taxas de manutenção cobradas em certos tipos de contas. No que diz respeito à inicialização de listas em Python, avalie as formas de inicialização abaixo, indicando a alternativa correta:\n",
    "\n",
    "I) lista_taxas = []\n",
    "II) lista_taxas = (0.08, 0.09)\n",
    "III) lista_taxas = list[0.08, 0.09]\n",
    "IV) lista_taxas = [0.08, 0.09]\n",
    "V) lista_taxas = list(“89”)\n",
    "\n",
    "a) Nenhuma das formas acima é uma maneira válida de inicializar uma lista em Python\n",
    "b) Apenas as alternativas I e II são válidas para inicializar uma lista em Python\n",
    "c) Apenas as alternativas II, III e IV são válidas para inicializar uma lista em Python\n",
    "d) Apenas as alternativas I, IV e V são válidas para inicializar uma lista em Python\n",
    "e) Todas as alternativas são opções viáveis de inicialização de listas em Python\n",
    "\n"
   ]
  },
  {
   "cell_type": "markdown",
   "metadata": {},
   "source": [
    "## Resposta correta: d\n",
    "\n",
    "* Justificativa:\n",
    " I IV e V são formas diferentes de criar listas. A I cria uma lista vazia, a IV cria uma lista com os valores informados e a V cria uma lista com string."
   ]
  },
  {
   "cell_type": "markdown",
   "metadata": {},
   "source": [
    "Questão 3:\n",
    "Como parte da equipe de facilities de um banco, você precisa implementar um código em Python que calcula o preço total de uma compra, dado o preço unitário de um dado produto (armazenado na variável preco) e a quantidade de unidades compradas (armazenado na variável quantidade). Assuma que temos apenas um único produto comprado. Assinale a alternativa que corretamente implementa este procedimento:\n",
    "\n",
    "a) preco_total = quantidade *= preco\n",
    "\n",
    "b) preco_total = quantidade * preco\n",
    "\n",
    "c) preco_total = quantidade += preco\n",
    "\n",
    "d) preco_total = quantidade / preco\n",
    "\n",
    "e) nda"
   ]
  },
  {
   "cell_type": "markdown",
   "metadata": {},
   "source": [
    "## Resposta correta: b\n",
    "\n",
    "* Justificativa: o preço total é calculado pelo produto da quantidade pelo preço unitário. Em python a multiplicação é dada pelo operador *."
   ]
  },
  {
   "cell_type": "markdown",
   "metadata": {},
   "source": [
    "Questão 4:\n",
    "Analise o seguinte código e indique a alternativa que corretamente indica as mensagens que foram exibidas na tela:\n",
    "\n",
    "var_a = 4\n",
    "var_b = -6\n",
    "var_c = 8\n",
    "\n",
    "if var_a > var_b:\n",
    "    print('Saída 1')\n",
    "    \n",
    "if var_a > var_c:\n",
    "    print('Saída 2')\n",
    "elif var_a > var_b + var_c:\n",
    "    print('Saída 3')\n",
    "else:\n",
    "    print('Saída 4')\n",
    "    \n",
    "print('Saída 5')\n",
    "a) Saída 5\n",
    "b) Saída 1 e Saída 3\n",
    "c) Saída 1 e Saída 5\n",
    "d) Saída 1, Saída 3 e Saída 5\n",
    "e) Saída 1, Saída 4 e Saída 5"
   ]
  },
  {
   "cell_type": "markdown",
   "metadata": {},
   "source": [
    "## Resposta correta: d\n",
    "\n",
    "Justificativa: \n",
    "\n",
    "- o primeiro if é independente do segundo, e var_a é maior que var_b, portanto imprimirá \"Saída 1\"\n",
    "- o segundo if imprimirá a condição em que var_a é maior que a soma das variáveis var_b e var_v, pois é a condição atendida.\n",
    "- também será impresso o print final que independe de condição e sempre será executado."
   ]
  },
  {
   "cell_type": "markdown",
   "metadata": {},
   "source": [
    "Questão 6:\n",
    "Considere o seguinte trecho de código em Python:\n",
    "\n",
    "lista_1 = [0, 1, 2, 3, 4]\n",
    "lista_2 = lista_1[:]\n",
    "lista_2[0] = 42\n",
    "print(lista_1[0])\n",
    "Qual o valor exibido na tela, a partir da execução deste trecho de código?\n",
    "\n",
    "a) [0, 1, 2, 3, 4]\n",
    "b) 0\n",
    "c) 4\n",
    "d) "
   ]
  },
  {
   "cell_type": "markdown",
   "metadata": {},
   "source": [
    "## Resposta: b\n",
    "\n",
    "Justificativa: \n",
    "- a list_2 é uma cópia da lista_1, não uma referência a lista_1.\n",
    "- o print busca o primeiro elemento (index 0), da lista_1, que não sofre alteração ao chamar lista_2[0] = 42."
   ]
  },
  {
   "cell_type": "markdown",
   "metadata": {},
   "source": [
    "Questão 7:\n",
    "\n",
    "Ao prospectar clientes, é importante que sejam mapeadas características capazes de definir perfis específicos, para que se possam estabelecer campanhas mais direcionadas a cada público. Dentre estas características, considerando o contexto de ofertas de produtos para clientes PJ de um banco, pode ser importante saber, por exemplo, quanto em média o cliente PJ fatura por dia em uma semana típica.\n",
    "\n",
    "Neste contexto, você precisa implementar um protótipo de uma solução, em Python, que faz o seguinte:\n",
    "\n",
    "- recebe, como entrada, o faturamento total de cada dia de uma semana (recebendo, portanto, 7 números);\n",
    "- exibe na tela, como saída, o faturamento diário médio (com base nas informações de faturamento da semana informada).\n"
   ]
  },
  {
   "cell_type": "code",
   "execution_count": 15,
   "metadata": {},
   "outputs": [
    {
     "name": "stdout",
     "output_type": "stream",
     "text": [
      "O faturamento diário médio é: 450.0\n"
     ]
    }
   ],
   "source": [
    "dias = ['domingo', 'segunda', 'terça', 'quarta', 'quinta', 'sexta', 'sabádo']\n",
    "faturamento = []\n",
    "\n",
    "for i in range(len(dias)): # itera pelos dias da semana(7)\n",
    "    faturamento.append(float(input(f\"Informe o faturamento de {dias[i]}\"))) # adiciona o valor de cada dia como float ao array\n",
    "\n",
    "print(f'O faturamento diário médio é: {sum(faturamento) / len(faturamento)}') # printa o resultado calculando a média"
   ]
  },
  {
   "cell_type": "markdown",
   "metadata": {},
   "source": [
    "Questão 8:\n",
    "\n",
    "Trabalhando na equipe de facilities de um banco, muitas vezes você faz compras internacionais, e acaba se deparando com diversas unidades de medida que caracterizam os produtos: em alguns países, medidas como onça fluida, libra e pés são muito comuns para medir volume, massa e comprimento, respectivamente.\n",
    "\n",
    "Neste contexto, escreva um programa que seja uma calculadora para converter as medidas mencionadas acima para o sistema internacional (litro, quilograma e metro). Os fatores de conversão são os seguintes:\n",
    "\n",
    "1 onça fluida = 0,0295735 litros 1 libra = 0,453592 quilogramas 1 pé = 0,3048 metros\n",
    "\n",
    "A calculadora deve ser capaz de realizar tanto a conversão para o sistema internacional quanto a conversão de volta para as unidades originais.\n",
    "\n",
    "Seu programa deve receber os inputs adequados do usuário para que seja completamente especificada a quantidade a ser convertida, e quais as unidades envolvidas na conversão desejada. Por fim, o programa deve exibir na tela tanto o valor na unidade original quanto na unidade convertida.\n",
    "\n",
    "Exemplo: se o usuário quiser converter 5 libras para quilogramas, a mensagem a ser exibida na tela como resultado do programa deve ser: \"5.0 libras é igual a 2.26796 quilogramas.\".\n"
   ]
  },
  {
   "cell_type": "code",
   "execution_count": 29,
   "metadata": {},
   "outputs": [
    {
     "name": "stdout",
     "output_type": "stream",
     "text": [
      "36.0 pés é igual a 10.972800000000001 metros.\n"
     ]
    }
   ],
   "source": [
    "conversao = int(input('Digite o número para escolher a conversão desejada (1, 2 3 4 5 ou 6) conforme as seguinte opções:\\n1 - onça fluida para litros\\n2 - litros para onça fluida\\n3 - libra para quilogramas\\n4 - quilogramas para libra\\n5 - pés para metros\\n6 - metros para pés'))\n",
    "valor = float(input('Digite o valor a ser convertido. (Ex: 50.9)'))\n",
    "onca_fluida_litros = 0.0295735\n",
    "libra_quilogramas = 0.453592\n",
    "pe_metros = 0.3048\n",
    "\n",
    "# Verifica a opção e ao printar o resultado e conforme a opção faz o calculo necessário de conversão\n",
    "if conversao == 1:\n",
    "    print(f'{valor} onças fluidas é igual a {valor * onca_fluida_litros} litros.')\n",
    "elif  conversao == 2:\n",
    "    print(f'{valor} litros é igual a {valor / onca_fluida_litros} onças fluidas.')\n",
    "elif  conversao == 3:\n",
    "    print(f'{valor} libras é igual a {valor * libra_quilogramas} quilogramas.')\n",
    "elif  conversao == 4:\n",
    "    print(f'{valor} quilogramas é igual a {valor / libra_quilogramas} libras.')\n",
    "elif  conversao == 5:\n",
    "    print(f'{valor} pés é igual a {valor * pe_metros} metros.')\n",
    "elif  conversao == 6:\n",
    "    print(f'{valor} metros é igual a {valor / pe_metros} pés.')\n",
    "else:\n",
    "    print('Informe uma opção válida. Escolha um número de 1 a 6.')"
   ]
  },
  {
   "cell_type": "markdown",
   "metadata": {},
   "source": [
    "Questão 9:\n",
    "\n",
    "Um conceito muito comum no mercado financeiro é o de média móvel. A ideia da média móvel é suavizar uma série temporal de dados para identificar tendências ao longo do tempo. Em vez de considerar cada ponto de dados individualmente, a média móvel calcula a média de um conjunto de dados dentro de uma janela de tempo específica, deslocando essa janela ao longo da série temporal.\n",
    "\n",
    "Em outras palavras: ao calcular a média móvel com janela de tamanho n para uma lista de valores, cada elemento da lista original é substituído pela média dos n elementos dentro da janela que termina no próprio elemento -- ou seja, a soma dos n-1 valores anteriores ao elemento com o valor do próprio elemento, dividido por n.\n",
    "\n",
    "Considere a lista de 10 valores a seguir: [3, 5, 8, 2, 7, 10, 3, 6, 9, 4].\n",
    "\n",
    "Escreva um programa que calcula a média móvel em janelas de 3 valores dessa lista (ou seja, n=3) e exiba na tela a lista resultante deste procedimento."
   ]
  },
  {
   "cell_type": "code",
   "execution_count": 48,
   "metadata": {},
   "outputs": [
    {
     "name": "stdout",
     "output_type": "stream",
     "text": [
      "[5.333333333333333, 5.0, 5.666666666666667, 6.333333333333333, 6.666666666666667, 6.333333333333333, 6.0, 6.333333333333333]\n"
     ]
    }
   ],
   "source": [
    "valores = [3, 5, 8, 2, 7, 10, 3, 6, 9, 4]\n",
    "janela = 3\n",
    "media_movel = []\n",
    "\n",
    "for i in range(len(valores) - (janela - 1)):\n",
    "    # janela - 1 garante que sempre hajam o número de elementos necessários para calcular a última média móvel\n",
    "    media = sum(valores[i:i+janela]) / janela\n",
    "    # soma os elementos iniciando pelo atual (i) até a quantidade da janela (i + janela, já que o último não entra)\n",
    "    # ex. se i for 0 e janela 3, ficará 3 o que pegará o elemento de indice 0 até 2, portanto [3,5,8])\n",
    "    # então, divide a soma pela janela, o que gera a média móvel\n",
    "    media_movel.append(media)\n",
    "\n",
    "print(media_movel)"
   ]
  },
  {
   "cell_type": "markdown",
   "metadata": {},
   "source": [
    "Questão 10:\n",
    "\n",
    "Um sistema de avaliação de saúde será desenvolvido por você para ajudar médicos do trabalho a avaliar a saúde de seus pacientes, que são funcionários de um grande banco.\n",
    "\n",
    "Os pacientes recebem uma nota de 0 a 100 para cada um dos seguintes critérios: preparo físico, alimentação saudável, saúde do coração e saúde mental.\n",
    "\n",
    "Um paciente com nota média acima de 70 é considerado saudável, enquanto pacientes com nota média abaixo de 70 são enviados para uma avaliação completa. Entretanto, caso a saúde do coração ou a saúde mental de um paciente estejam abaixo de 30, o paciente será encaminhado para uma avaliação completa independente da média.\n",
    "\n",
    "Escreva um programa que implementa a lógica acima, em que é exibido na tela o resultado da avaliação (\"paciente saudável\" ou \"paciente encaminhado para avaliação completa\") com base nas notas para os 4 critérios supracitados (você pode atribuir valores específicos para as notas para testar seu programa)."
   ]
  },
  {
   "cell_type": "code",
   "execution_count": 46,
   "metadata": {},
   "outputs": [
    {
     "name": "stdout",
     "output_type": "stream",
     "text": [
      "paciente saudável\n"
     ]
    }
   ],
   "source": [
    "# valores não inseridos em input devido a sugestão: \"você pode atribuir valores específicos para as notas para testar seu programa\"\n",
    "fisico = 100\n",
    "alimentacao = 70\n",
    "coracao = 50\n",
    "mental = 60\n",
    "media = (fisico + alimentacao + coracao + mental) / 4 # gera a média das 4 notas\n",
    "\n",
    "# Começando com a checagem da saúde mental e do coração que são a exceção que independe da média realiza a checagem das condições informadas na questão\n",
    "if mental <=30 or coracao <=30:\n",
    "    print('paciente encaminhado para avaliação completa')\n",
    "elif media >= 70:\n",
    "    print('paciente saudável')\n",
    "else:\n",
    "    print('paciente encaminhado para avaliação completa')\n"
   ]
  }
 ],
 "metadata": {
  "kernelspec": {
   "display_name": "Python 3",
   "language": "python",
   "name": "python3"
  },
  "language_info": {
   "codemirror_mode": {
    "name": "ipython",
    "version": 3
   },
   "file_extension": ".py",
   "mimetype": "text/x-python",
   "name": "python",
   "nbconvert_exporter": "python",
   "pygments_lexer": "ipython3",
   "version": "3.12.1"
  }
 },
 "nbformat": 4,
 "nbformat_minor": 2
}
